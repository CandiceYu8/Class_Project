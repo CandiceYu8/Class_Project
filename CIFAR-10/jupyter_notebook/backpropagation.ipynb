{
 "cells": [
  {
   "cell_type": "code",
   "execution_count": 1,
   "metadata": {},
   "outputs": [],
   "source": [
    "import load_cifar10"
   ]
  },
  {
   "cell_type": "code",
   "execution_count": 2,
   "metadata": {},
   "outputs": [],
   "source": [
    "train_data, validation_data, test_data = load_cifar10.wrapper_data()"
   ]
  },
  {
   "cell_type": "code",
   "execution_count": 3,
   "metadata": {},
   "outputs": [],
   "source": [
    "import network2"
   ]
  },
  {
   "cell_type": "code",
   "execution_count": 4,
   "metadata": {},
   "outputs": [],
   "source": [
    "network = network2.Network([3072, 1024, 1024, 10])"
   ]
  },
  {
   "cell_type": "code",
   "execution_count": 6,
   "metadata": {},
   "outputs": [
    {
     "name": "stderr",
     "output_type": "stream",
     "text": [
      "E:\\school\\2-2\\ac_eng\\cifar\\network2.py:328: RuntimeWarning: overflow encountered in exp\n",
      "  return 1.0/(1.0+np.exp(-z))\n"
     ]
    },
    {
     "name": "stdout",
     "output_type": "stream",
     "text": [
      "Epoch 0 training complete\n",
      "Accuracy on training data: 99 / 1000\n",
      "Accuracy on evaluation data: 11 / 100\n",
      "Epoch 1 training complete\n",
      "Accuracy on training data: 107 / 1000\n",
      "Accuracy on evaluation data: 7 / 100\n",
      "Epoch 2 training complete\n",
      "Accuracy on training data: 99 / 1000\n",
      "Accuracy on evaluation data: 11 / 100\n",
      "Epoch 3 training complete\n",
      "Accuracy on training data: 103 / 1000\n",
      "Accuracy on evaluation data: 13 / 100\n",
      "Epoch 4 training complete\n",
      "Accuracy on training data: 99 / 1000\n",
      "Accuracy on evaluation data: 11 / 100\n",
      "Epoch 5 training complete\n",
      "Accuracy on training data: 102 / 1000\n",
      "Accuracy on evaluation data: 12 / 100\n",
      "Epoch 6 training complete\n",
      "Accuracy on training data: 99 / 1000\n",
      "Accuracy on evaluation data: 7 / 100\n",
      "Epoch 7 training complete\n",
      "Accuracy on training data: 99 / 1000\n",
      "Accuracy on evaluation data: 11 / 100\n",
      "Epoch 8 training complete\n",
      "Accuracy on training data: 92 / 1000\n",
      "Accuracy on evaluation data: 9 / 100\n",
      "Epoch 9 training complete\n",
      "Accuracy on training data: 102 / 1000\n",
      "Accuracy on evaluation data: 12 / 100\n"
     ]
    }
   ],
   "source": [
    "evaluation_cost, evaluation_accuracy, training_cost, training_accuracy = network.SGD(train_data[:1000], \n",
    "                                                        10, 5, 1, lmbda=0.0, evaluation_data=validation_data[:100],\n",
    "                                                monitor_evaluation_cost=False, monitor_evaluation_accuracy=True, \n",
    "                                                monitor_training_cost=False, monitor_training_accuracy=True)"
   ]
  },
  {
   "cell_type": "code",
   "execution_count": null,
   "metadata": {},
   "outputs": [],
   "source": []
  }
 ],
 "metadata": {
  "kernelspec": {
   "display_name": "Python 3",
   "language": "python",
   "name": "python3"
  },
  "language_info": {
   "codemirror_mode": {
    "name": "ipython",
    "version": 3
   },
   "file_extension": ".py",
   "mimetype": "text/x-python",
   "name": "python",
   "nbconvert_exporter": "python",
   "pygments_lexer": "ipython3",
   "version": "3.6.4"
  }
 },
 "nbformat": 4,
 "nbformat_minor": 2
}
