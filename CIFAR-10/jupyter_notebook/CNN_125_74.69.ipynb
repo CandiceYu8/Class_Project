{
 "cells": [
  {
   "cell_type": "markdown",
   "metadata": {},
   "source": [
    "### Keras 模型建立"
   ]
  },
  {
   "cell_type": "code",
   "execution_count": 1,
   "metadata": {},
   "outputs": [],
   "source": [
    "import numpy as np\n",
    "import keras\n",
    "from keras.models import Sequential\n",
    "from keras.utils import np_utils\n",
    "from keras.preprocessing.image import ImageDataGenerator\n",
    "from keras.layers import Dense, Activation, Flatten, Dropout, normalization\n",
    "from keras.layers import Conv2D, MaxPooling2D\n",
    "from keras.datasets import cifar10\n",
    "from keras import regularizers\n",
    "from keras.callbacks import LearningRateScheduler, ModelCheckpoint"
   ]
  },
  {
   "cell_type": "markdown",
   "metadata": {},
   "source": [
    "###  1. 模型构建"
   ]
  },
  {
   "cell_type": "code",
   "execution_count": 2,
   "metadata": {},
   "outputs": [],
   "source": [
    "def CNN_():\n",
    "    model = Sequential()\n",
    "\n",
    "    model.add(Conv2D(32, (3,3), padding='same', kernel_regularizer=regularizers.l2(1e-4), input_shape=(32, 32, 3)))\n",
    "    model.add(normalization.BatchNormalization())\n",
    "#     model.add(Conv2D(32, (3,3), padding='same', kernel_regularizer=regularizers.l2(1e-4)))\n",
    "#     model.add(normalization.BatchNormalization())\n",
    "    model.add(MaxPooling2D(pool_size=(2,2)))\n",
    "    model.add(Dropout(0.2))\n",
    "                         \n",
    "    model.add(Conv2D(64, (3,3), padding='same', kernel_regularizer=regularizers.l2(1e-4)))\n",
    "    model.add(normalization.BatchNormalization())\n",
    "#     model.add(Conv2D(64, (3,3), padding='same', kernel_regularizer=regularizers.l2(1e-4)))\n",
    "#     model.add(normalization.BatchNormalization())\n",
    "    model.add(MaxPooling2D(pool_size=(2,2)))\n",
    "    model.add(Dropout(0.3))\n",
    "\n",
    "    model.add(Conv2D(128, (3,3), padding='same', kernel_regularizer=regularizers.l2(1e-4)))\n",
    "    model.add(normalization.BatchNormalization())\n",
    "#     model.add(Conv2D(128, (3,3), padding='same', kernel_regularizer=regularizers.l2(1e-4)))\n",
    "#     model.add(normalization.BatchNormalization())\n",
    "    model.add(MaxPooling2D(pool_size=(2,2)))\n",
    "    model.add(Dropout(0.4))\n",
    "                         \n",
    "    model.add(Flatten())\n",
    "    model.add(Dense(10, activation='softmax'))        \n",
    "    \n",
    "    model.summary()\n",
    "    return model"
   ]
  },
  {
   "cell_type": "code",
   "execution_count": 3,
   "metadata": {},
   "outputs": [
    {
     "name": "stdout",
     "output_type": "stream",
     "text": [
      "_________________________________________________________________\n",
      "Layer (type)                 Output Shape              Param #   \n",
      "=================================================================\n",
      "conv2d_1 (Conv2D)            (None, 32, 32, 32)        896       \n",
      "_________________________________________________________________\n",
      "batch_normalization_1 (Batch (None, 32, 32, 32)        128       \n",
      "_________________________________________________________________\n",
      "max_pooling2d_1 (MaxPooling2 (None, 16, 16, 32)        0         \n",
      "_________________________________________________________________\n",
      "dropout_1 (Dropout)          (None, 16, 16, 32)        0         \n",
      "_________________________________________________________________\n",
      "conv2d_2 (Conv2D)            (None, 16, 16, 64)        18496     \n",
      "_________________________________________________________________\n",
      "batch_normalization_2 (Batch (None, 16, 16, 64)        256       \n",
      "_________________________________________________________________\n",
      "max_pooling2d_2 (MaxPooling2 (None, 8, 8, 64)          0         \n",
      "_________________________________________________________________\n",
      "dropout_2 (Dropout)          (None, 8, 8, 64)          0         \n",
      "_________________________________________________________________\n",
      "conv2d_3 (Conv2D)            (None, 8, 8, 128)         73856     \n",
      "_________________________________________________________________\n",
      "batch_normalization_3 (Batch (None, 8, 8, 128)         512       \n",
      "_________________________________________________________________\n",
      "max_pooling2d_3 (MaxPooling2 (None, 4, 4, 128)         0         \n",
      "_________________________________________________________________\n",
      "dropout_3 (Dropout)          (None, 4, 4, 128)         0         \n",
      "_________________________________________________________________\n",
      "flatten_1 (Flatten)          (None, 2048)              0         \n",
      "_________________________________________________________________\n",
      "dense_1 (Dense)              (None, 10)                20490     \n",
      "=================================================================\n",
      "Total params: 114,634\n",
      "Trainable params: 114,186\n",
      "Non-trainable params: 448\n",
      "_________________________________________________________________\n"
     ]
    }
   ],
   "source": [
    "model = CNN_()"
   ]
  },
  {
   "cell_type": "markdown",
   "metadata": {},
   "source": [
    "###  2. 定义损失函数和训练模型"
   ]
  },
  {
   "cell_type": "code",
   "execution_count": 4,
   "metadata": {},
   "outputs": [],
   "source": [
    "opt_rms = keras.optimizers.rmsprop(lr=0.001,decay=1e-6)\n",
    "model.compile(loss='categorical_crossentropy', optimizer=opt_rms, metrics=['accuracy'])"
   ]
  },
  {
   "cell_type": "markdown",
   "metadata": {},
   "source": [
    "### 3. 定义可变的学习速率"
   ]
  },
  {
   "cell_type": "code",
   "execution_count": 5,
   "metadata": {},
   "outputs": [],
   "source": [
    "def lr_schedule(epoch):\n",
    "    lrate = 0.001\n",
    "    if epoch > 75:\n",
    "        lrate = 0.0005\n",
    "    elif epoch > 100:\n",
    "        lrate = 0.0003        \n",
    "    return lrate"
   ]
  },
  {
   "cell_type": "markdown",
   "metadata": {},
   "source": [
    "### 4. 加载数据"
   ]
  },
  {
   "cell_type": "code",
   "execution_count": 6,
   "metadata": {},
   "outputs": [],
   "source": [
    "(x_train, y_train), (x_test, y_test) = cifar10.load_data()\n",
    "x_train = x_train.astype('float32')\n",
    "x_test = x_test.astype('float32')"
   ]
  },
  {
   "cell_type": "markdown",
   "metadata": {},
   "source": [
    "### 5. 标准化数据 Z-Score"
   ]
  },
  {
   "cell_type": "code",
   "execution_count": 7,
   "metadata": {},
   "outputs": [],
   "source": [
    "mean = np.mean(x_train,axis=(0,1,2,3))\n",
    "std = np.std(x_train,axis=(0,1,2,3))\n",
    "x_train = (x_train-mean)/(std+1e-7)\n",
    "x_test = (x_test-mean)/(std+1e-7)"
   ]
  },
  {
   "cell_type": "markdown",
   "metadata": {},
   "source": [
    "### 6. 对输出进行One-hot编码"
   ]
  },
  {
   "cell_type": "code",
   "execution_count": 8,
   "metadata": {},
   "outputs": [],
   "source": [
    "num_classes = 10\n",
    "y_train = np_utils.to_categorical(y_train, num_classes)\n",
    "y_test = np_utils.to_categorical(y_test, num_classes)"
   ]
  },
  {
   "cell_type": "markdown",
   "metadata": {},
   "source": [
    "### 7. 增广数据集"
   ]
  },
  {
   "cell_type": "code",
   "execution_count": 9,
   "metadata": {},
   "outputs": [],
   "source": [
    "datagen = ImageDataGenerator(\n",
    "    rotation_range=15,\n",
    "    width_shift_range=0.1,\n",
    "    height_shift_range=0.1,\n",
    "    horizontal_flip=True,\n",
    "    )\n",
    "datagen.fit(x_train)"
   ]
  },
  {
   "cell_type": "markdown",
   "metadata": {},
   "source": [
    "### 8. 训练模型并保存"
   ]
  },
  {
   "cell_type": "code",
   "execution_count": 10,
   "metadata": {},
   "outputs": [
    {
     "name": "stdout",
     "output_type": "stream",
     "text": [
      "WARNING:tensorflow:Variable *= will be deprecated. Use variable.assign_mul if you want assignment to the variable value or 'x = x * y' if you want a new python Tensor object.\n",
      "Epoch 1/125\n",
      "1563/1562 [==============================] - 605s 387ms/step - loss: 1.8832 - acc: 0.3941 - val_loss: 1.4250 - val_acc: 0.5219\n",
      "Epoch 2/125\n",
      "1563/1562 [==============================] - 615s 394ms/step - loss: 1.4368 - acc: 0.5096 - val_loss: 1.1915 - val_acc: 0.6029\n",
      "Epoch 3/125\n",
      "1563/1562 [==============================] - 603s 386ms/step - loss: 1.3271 - acc: 0.5527 - val_loss: 1.1798 - val_acc: 0.6057\n",
      "Epoch 4/125\n",
      "1563/1562 [==============================] - 604s 386ms/step - loss: 1.2651 - acc: 0.5745 - val_loss: 1.0934 - val_acc: 0.6478\n",
      "Epoch 5/125\n",
      "1563/1562 [==============================] - 609s 390ms/step - loss: 1.2383 - acc: 0.5879 - val_loss: 1.1552 - val_acc: 0.6354\n",
      "Epoch 6/125\n",
      "1563/1562 [==============================] - 605s 387ms/step - loss: 1.2170 - acc: 0.5952 - val_loss: 1.1198 - val_acc: 0.6424\n",
      "Epoch 7/125\n",
      "1563/1562 [==============================] - 607s 388ms/step - loss: 1.1909 - acc: 0.6094 - val_loss: 1.0942 - val_acc: 0.6509\n",
      "Epoch 8/125\n",
      "1563/1562 [==============================] - 609s 390ms/step - loss: 1.1830 - acc: 0.6138 - val_loss: 1.1202 - val_acc: 0.6498\n",
      "Epoch 9/125\n",
      "1563/1562 [==============================] - 611s 391ms/step - loss: 1.1672 - acc: 0.6201 - val_loss: 1.0232 - val_acc: 0.6800\n",
      "Epoch 10/125\n",
      "1563/1562 [==============================] - 608s 389ms/step - loss: 1.1584 - acc: 0.6241 - val_loss: 1.0422 - val_acc: 0.6790\n",
      "Epoch 11/125\n",
      "1563/1562 [==============================] - 610s 390ms/step - loss: 1.1553 - acc: 0.6259 - val_loss: 1.0161 - val_acc: 0.6825\n",
      "Epoch 12/125\n",
      "1563/1562 [==============================] - 610s 390ms/step - loss: 1.1417 - acc: 0.6300 - val_loss: 1.0613 - val_acc: 0.6751\n",
      "Epoch 13/125\n",
      "1563/1562 [==============================] - 607s 388ms/step - loss: 1.1334 - acc: 0.6327 - val_loss: 1.1147 - val_acc: 0.6543\n",
      "Epoch 14/125\n",
      "1563/1562 [==============================] - 610s 390ms/step - loss: 1.1324 - acc: 0.6361 - val_loss: 1.0089 - val_acc: 0.6919\n",
      "Epoch 15/125\n",
      "1563/1562 [==============================] - 608s 389ms/step - loss: 1.1249 - acc: 0.6377 - val_loss: 0.9651 - val_acc: 0.7013\n",
      "Epoch 16/125\n",
      "1563/1562 [==============================] - 607s 388ms/step - loss: 1.1183 - acc: 0.6424 - val_loss: 1.0189 - val_acc: 0.6912\n",
      "Epoch 17/125\n",
      "1563/1562 [==============================] - 607s 389ms/step - loss: 1.1150 - acc: 0.6405 - val_loss: 0.9773 - val_acc: 0.6942\n",
      "Epoch 18/125\n",
      "1563/1562 [==============================] - 605s 387ms/step - loss: 1.1125 - acc: 0.6437 - val_loss: 1.0126 - val_acc: 0.6885\n",
      "Epoch 19/125\n",
      "1563/1562 [==============================] - 601s 385ms/step - loss: 1.1062 - acc: 0.6479 - val_loss: 1.0768 - val_acc: 0.6728\n",
      "Epoch 20/125\n",
      "1563/1562 [==============================] - 606s 388ms/step - loss: 1.1068 - acc: 0.6471 - val_loss: 1.0229 - val_acc: 0.6955\n",
      "Epoch 21/125\n",
      "1563/1562 [==============================] - 603s 386ms/step - loss: 1.0979 - acc: 0.6479 - val_loss: 0.9316 - val_acc: 0.7178\n",
      "Epoch 22/125\n",
      "1563/1562 [==============================] - 593s 379ms/step - loss: 1.0945 - acc: 0.6497 - val_loss: 1.0076 - val_acc: 0.6976\n",
      "Epoch 23/125\n",
      "1563/1562 [==============================] - 596s 381ms/step - loss: 1.0891 - acc: 0.6524 - val_loss: 0.9833 - val_acc: 0.6947\n",
      "Epoch 24/125\n",
      "1563/1562 [==============================] - 596s 381ms/step - loss: 1.0942 - acc: 0.6505 - val_loss: 1.0628 - val_acc: 0.6796\n",
      "Epoch 25/125\n",
      "1563/1562 [==============================] - 591s 378ms/step - loss: 1.0925 - acc: 0.6528 - val_loss: 0.9312 - val_acc: 0.7193\n",
      "Epoch 26/125\n",
      "1563/1562 [==============================] - 595s 380ms/step - loss: 1.0877 - acc: 0.6531 - val_loss: 0.9733 - val_acc: 0.7091\n",
      "Epoch 27/125\n",
      "1563/1562 [==============================] - 592s 379ms/step - loss: 1.0854 - acc: 0.6568 - val_loss: 1.0539 - val_acc: 0.6822\n",
      "Epoch 28/125\n",
      "1563/1562 [==============================] - 592s 379ms/step - loss: 1.0841 - acc: 0.6533 - val_loss: 0.9416 - val_acc: 0.7153\n",
      "Epoch 29/125\n",
      "1563/1562 [==============================] - 593s 379ms/step - loss: 1.0772 - acc: 0.6560 - val_loss: 0.9540 - val_acc: 0.7110\n",
      "Epoch 30/125\n",
      "1563/1562 [==============================] - 592s 379ms/step - loss: 1.0809 - acc: 0.6570 - val_loss: 0.9986 - val_acc: 0.6962\n",
      "Epoch 31/125\n",
      "1563/1562 [==============================] - 594s 380ms/step - loss: 1.0762 - acc: 0.6581 - val_loss: 1.0075 - val_acc: 0.7001\n",
      "Epoch 32/125\n",
      "1563/1562 [==============================] - 592s 379ms/step - loss: 1.0730 - acc: 0.6593 - val_loss: 1.0054 - val_acc: 0.6974\n",
      "Epoch 33/125\n",
      "1563/1562 [==============================] - 592s 379ms/step - loss: 1.0689 - acc: 0.6608 - val_loss: 0.9990 - val_acc: 0.6952\n",
      "Epoch 34/125\n",
      "1563/1562 [==============================] - 592s 379ms/step - loss: 1.0702 - acc: 0.6613 - val_loss: 0.9990 - val_acc: 0.7058\n",
      "Epoch 35/125\n",
      "1563/1562 [==============================] - 591s 378ms/step - loss: 1.0740 - acc: 0.6603 - val_loss: 0.9947 - val_acc: 0.6999\n",
      "Epoch 36/125\n",
      "1563/1562 [==============================] - 591s 378ms/step - loss: 1.0659 - acc: 0.6621 - val_loss: 0.9494 - val_acc: 0.7091\n",
      "Epoch 37/125\n",
      "1563/1562 [==============================] - 591s 378ms/step - loss: 1.0697 - acc: 0.6595 - val_loss: 0.9326 - val_acc: 0.7255\n",
      "Epoch 38/125\n",
      "1563/1562 [==============================] - 591s 378ms/step - loss: 1.0644 - acc: 0.6649 - val_loss: 0.9857 - val_acc: 0.7072\n",
      "Epoch 39/125\n",
      "1563/1562 [==============================] - 593s 379ms/step - loss: 1.0640 - acc: 0.6652 - val_loss: 0.9344 - val_acc: 0.7215\n",
      "Epoch 40/125\n",
      "1563/1562 [==============================] - 591s 378ms/step - loss: 1.0665 - acc: 0.6584 - val_loss: 0.9788 - val_acc: 0.7138\n",
      "Epoch 41/125\n",
      "1563/1562 [==============================] - 592s 379ms/step - loss: 1.0644 - acc: 0.6622 - val_loss: 0.9728 - val_acc: 0.7088\n",
      "Epoch 42/125\n",
      "1563/1562 [==============================] - 591s 378ms/step - loss: 1.0576 - acc: 0.6669 - val_loss: 0.9537 - val_acc: 0.7128\n",
      "Epoch 43/125\n",
      "1563/1562 [==============================] - 592s 379ms/step - loss: 1.0640 - acc: 0.6619 - val_loss: 0.9561 - val_acc: 0.7073\n",
      "Epoch 44/125\n",
      "1563/1562 [==============================] - 593s 379ms/step - loss: 1.0548 - acc: 0.6643 - val_loss: 0.9512 - val_acc: 0.7115\n",
      "Epoch 45/125\n",
      "1563/1562 [==============================] - 590s 377ms/step - loss: 1.0528 - acc: 0.6665 - val_loss: 0.9520 - val_acc: 0.7168\n",
      "Epoch 46/125\n",
      "1563/1562 [==============================] - 593s 380ms/step - loss: 1.0590 - acc: 0.6643 - val_loss: 0.9664 - val_acc: 0.7125\n",
      "Epoch 47/125\n",
      "1563/1562 [==============================] - 592s 379ms/step - loss: 1.0525 - acc: 0.6674 - val_loss: 0.8886 - val_acc: 0.7315\n",
      "Epoch 48/125\n",
      "1563/1562 [==============================] - 594s 380ms/step - loss: 1.0543 - acc: 0.6646 - val_loss: 0.9412 - val_acc: 0.7219\n",
      "Epoch 49/125\n",
      "1563/1562 [==============================] - 590s 377ms/step - loss: 1.0578 - acc: 0.6645 - val_loss: 0.9610 - val_acc: 0.7154\n",
      "Epoch 50/125\n",
      "1563/1562 [==============================] - 591s 378ms/step - loss: 1.0565 - acc: 0.6647 - val_loss: 1.0464 - val_acc: 0.6874\n",
      "Epoch 51/125\n",
      "1563/1562 [==============================] - 592s 379ms/step - loss: 1.0493 - acc: 0.6713 - val_loss: 0.9548 - val_acc: 0.7186\n",
      "Epoch 52/125\n",
      "1563/1562 [==============================] - 593s 380ms/step - loss: 1.0492 - acc: 0.6673 - val_loss: 1.0243 - val_acc: 0.6945\n",
      "Epoch 53/125\n",
      "1563/1562 [==============================] - 592s 378ms/step - loss: 1.0507 - acc: 0.6702 - val_loss: 0.9103 - val_acc: 0.7281\n",
      "Epoch 54/125\n",
      "1563/1562 [==============================] - 592s 379ms/step - loss: 1.0519 - acc: 0.6671 - val_loss: 0.9681 - val_acc: 0.7125\n",
      "Epoch 55/125\n",
      "1563/1562 [==============================] - 593s 379ms/step - loss: 1.0532 - acc: 0.6684 - val_loss: 0.9744 - val_acc: 0.7130\n",
      "Epoch 56/125\n",
      "1563/1562 [==============================] - 592s 379ms/step - loss: 1.0446 - acc: 0.6700 - val_loss: 0.9903 - val_acc: 0.7064\n",
      "Epoch 57/125\n",
      "1563/1562 [==============================] - 593s 380ms/step - loss: 1.0484 - acc: 0.6682 - val_loss: 0.9666 - val_acc: 0.7091\n",
      "Epoch 58/125\n"
     ]
    },
    {
     "name": "stdout",
     "output_type": "stream",
     "text": [
      "1563/1562 [==============================] - 593s 379ms/step - loss: 1.0479 - acc: 0.6712 - val_loss: 1.0372 - val_acc: 0.6914\n",
      "Epoch 59/125\n",
      "1563/1562 [==============================] - 594s 380ms/step - loss: 1.0421 - acc: 0.6707 - val_loss: 0.9112 - val_acc: 0.7255\n",
      "Epoch 60/125\n",
      "1563/1562 [==============================] - 593s 380ms/step - loss: 1.0446 - acc: 0.6684 - val_loss: 0.9196 - val_acc: 0.7247\n",
      "Epoch 61/125\n",
      "1563/1562 [==============================] - 593s 379ms/step - loss: 1.0448 - acc: 0.6693 - val_loss: 0.9769 - val_acc: 0.7102\n",
      "Epoch 62/125\n",
      "1563/1562 [==============================] - 593s 379ms/step - loss: 1.0403 - acc: 0.6723 - val_loss: 0.9371 - val_acc: 0.7167\n",
      "Epoch 63/125\n",
      "1563/1562 [==============================] - 592s 379ms/step - loss: 1.0424 - acc: 0.6703 - val_loss: 0.9530 - val_acc: 0.7148\n",
      "Epoch 64/125\n",
      "1563/1562 [==============================] - 590s 377ms/step - loss: 1.0423 - acc: 0.6724 - val_loss: 1.0595 - val_acc: 0.6853\n",
      "Epoch 65/125\n",
      "1563/1562 [==============================] - 592s 379ms/step - loss: 1.0398 - acc: 0.6737 - val_loss: 1.0095 - val_acc: 0.6996\n",
      "Epoch 66/125\n",
      "1563/1562 [==============================] - 591s 378ms/step - loss: 1.0389 - acc: 0.6724 - val_loss: 0.9231 - val_acc: 0.7230\n",
      "Epoch 67/125\n",
      "1563/1562 [==============================] - 593s 379ms/step - loss: 1.0401 - acc: 0.6718 - val_loss: 0.9346 - val_acc: 0.7218\n",
      "Epoch 68/125\n",
      "1563/1562 [==============================] - 591s 378ms/step - loss: 1.0418 - acc: 0.6690 - val_loss: 0.9443 - val_acc: 0.7216\n",
      "Epoch 69/125\n",
      "1563/1562 [==============================] - 593s 379ms/step - loss: 1.0393 - acc: 0.6729 - val_loss: 0.9477 - val_acc: 0.7165\n",
      "Epoch 70/125\n",
      "1563/1562 [==============================] - 591s 378ms/step - loss: 1.0354 - acc: 0.6748 - val_loss: 0.9639 - val_acc: 0.7130\n",
      "Epoch 71/125\n",
      "1563/1562 [==============================] - 594s 380ms/step - loss: 1.0388 - acc: 0.6742 - val_loss: 0.9550 - val_acc: 0.7166\n",
      "Epoch 72/125\n",
      "1563/1562 [==============================] - 592s 379ms/step - loss: 1.0380 - acc: 0.6734 - val_loss: 0.9848 - val_acc: 0.7065\n",
      "Epoch 73/125\n",
      "1563/1562 [==============================] - 590s 378ms/step - loss: 1.0372 - acc: 0.6731 - val_loss: 0.9197 - val_acc: 0.7215\n",
      "Epoch 74/125\n",
      "1563/1562 [==============================] - 592s 379ms/step - loss: 1.0386 - acc: 0.6713 - val_loss: 0.9607 - val_acc: 0.7176\n",
      "Epoch 75/125\n",
      "1563/1562 [==============================] - 592s 379ms/step - loss: 1.0386 - acc: 0.6733 - val_loss: 1.0097 - val_acc: 0.6953\n",
      "Epoch 76/125\n",
      "1563/1562 [==============================] - 593s 379ms/step - loss: 1.0390 - acc: 0.6739 - val_loss: 1.0036 - val_acc: 0.7076\n",
      "Epoch 77/125\n",
      "1563/1562 [==============================] - 592s 379ms/step - loss: 1.0014 - acc: 0.6867 - val_loss: 0.9250 - val_acc: 0.7263\n",
      "Epoch 78/125\n",
      "1563/1562 [==============================] - 591s 378ms/step - loss: 0.9912 - acc: 0.6869 - val_loss: 0.9613 - val_acc: 0.7162\n",
      "Epoch 79/125\n",
      "1563/1562 [==============================] - 592s 379ms/step - loss: 0.9882 - acc: 0.6877 - val_loss: 0.9361 - val_acc: 0.7216\n",
      "Epoch 80/125\n",
      "1563/1562 [==============================] - 591s 378ms/step - loss: 0.9713 - acc: 0.6945 - val_loss: 0.9881 - val_acc: 0.7075\n",
      "Epoch 81/125\n",
      "1563/1562 [==============================] - 590s 378ms/step - loss: 0.9736 - acc: 0.6907 - val_loss: 0.8880 - val_acc: 0.7347\n",
      "Epoch 82/125\n",
      "1563/1562 [==============================] - 592s 379ms/step - loss: 0.9807 - acc: 0.6888 - val_loss: 0.9325 - val_acc: 0.7198\n",
      "Epoch 83/125\n",
      "1563/1562 [==============================] - 592s 379ms/step - loss: 0.9700 - acc: 0.6934 - val_loss: 0.9064 - val_acc: 0.7313\n",
      "Epoch 84/125\n",
      "1563/1562 [==============================] - 590s 378ms/step - loss: 0.9698 - acc: 0.6920 - val_loss: 0.9143 - val_acc: 0.7260\n",
      "Epoch 85/125\n",
      "1563/1562 [==============================] - 593s 379ms/step - loss: 0.9680 - acc: 0.6949 - val_loss: 0.9666 - val_acc: 0.7152\n",
      "Epoch 86/125\n",
      "1563/1562 [==============================] - 593s 380ms/step - loss: 0.9704 - acc: 0.6912 - val_loss: 0.8575 - val_acc: 0.7444\n",
      "Epoch 87/125\n",
      "1563/1562 [==============================] - 593s 379ms/step - loss: 0.9653 - acc: 0.6949 - val_loss: 0.9029 - val_acc: 0.7295\n",
      "Epoch 88/125\n",
      "1563/1562 [==============================] - 596s 382ms/step - loss: 0.9658 - acc: 0.6930 - val_loss: 0.9489 - val_acc: 0.7169\n",
      "Epoch 89/125\n",
      "1563/1562 [==============================] - 598s 383ms/step - loss: 0.9629 - acc: 0.6912 - val_loss: 0.9680 - val_acc: 0.7125\n",
      "Epoch 90/125\n",
      "1563/1562 [==============================] - 597s 382ms/step - loss: 0.9625 - acc: 0.6939 - val_loss: 0.8696 - val_acc: 0.7404\n",
      "Epoch 91/125\n",
      "1563/1562 [==============================] - 595s 381ms/step - loss: 0.9663 - acc: 0.6921 - val_loss: 0.8666 - val_acc: 0.7411\n",
      "Epoch 92/125\n",
      "1563/1562 [==============================] - 597s 382ms/step - loss: 0.9602 - acc: 0.6920 - val_loss: 0.8420 - val_acc: 0.7398\n",
      "Epoch 93/125\n",
      "1563/1562 [==============================] - 601s 385ms/step - loss: 0.9540 - acc: 0.6965 - val_loss: 0.9361 - val_acc: 0.7190\n",
      "Epoch 94/125\n",
      "1563/1562 [==============================] - 596s 381ms/step - loss: 0.9539 - acc: 0.6944 - val_loss: 0.8732 - val_acc: 0.7390\n",
      "Epoch 95/125\n",
      "1563/1562 [==============================] - 599s 383ms/step - loss: 0.9547 - acc: 0.6957 - val_loss: 0.9394 - val_acc: 0.7173\n",
      "Epoch 96/125\n",
      "1563/1562 [==============================] - 597s 382ms/step - loss: 0.9518 - acc: 0.6972 - val_loss: 0.8484 - val_acc: 0.7410\n",
      "Epoch 97/125\n",
      "1563/1562 [==============================] - 602s 385ms/step - loss: 0.9526 - acc: 0.6943 - val_loss: 0.8966 - val_acc: 0.7291\n",
      "Epoch 98/125\n",
      "1563/1562 [==============================] - 600s 384ms/step - loss: 0.9566 - acc: 0.6944 - val_loss: 0.8821 - val_acc: 0.7288\n",
      "Epoch 99/125\n",
      "1563/1562 [==============================] - 595s 380ms/step - loss: 0.9498 - acc: 0.6969 - val_loss: 0.8471 - val_acc: 0.7413\n",
      "Epoch 100/125\n",
      "1563/1562 [==============================] - 600s 384ms/step - loss: 0.9538 - acc: 0.6947 - val_loss: 0.8878 - val_acc: 0.7334\n",
      "Epoch 101/125\n",
      "1563/1562 [==============================] - 603s 386ms/step - loss: 0.9533 - acc: 0.6952 - val_loss: 0.8672 - val_acc: 0.7360\n",
      "Epoch 102/125\n",
      "1563/1562 [==============================] - 596s 381ms/step - loss: 0.9567 - acc: 0.6952 - val_loss: 0.9067 - val_acc: 0.7237\n",
      "Epoch 103/125\n",
      "1563/1562 [==============================] - 594s 380ms/step - loss: 0.9522 - acc: 0.6948 - val_loss: 0.8680 - val_acc: 0.7385\n",
      "Epoch 104/125\n",
      "1563/1562 [==============================] - 596s 382ms/step - loss: 0.9514 - acc: 0.6949 - val_loss: 0.8722 - val_acc: 0.7337\n",
      "Epoch 105/125\n",
      "1563/1562 [==============================] - 593s 379ms/step - loss: 0.9480 - acc: 0.6943 - val_loss: 0.8927 - val_acc: 0.7281\n",
      "Epoch 106/125\n",
      "1563/1562 [==============================] - 595s 381ms/step - loss: 0.9550 - acc: 0.6945 - val_loss: 0.9335 - val_acc: 0.7148\n",
      "Epoch 107/125\n",
      "1563/1562 [==============================] - 593s 379ms/step - loss: 0.9478 - acc: 0.6980 - val_loss: 0.8866 - val_acc: 0.7325\n",
      "Epoch 108/125\n",
      "1563/1562 [==============================] - 592s 379ms/step - loss: 0.9557 - acc: 0.6942 - val_loss: 0.8633 - val_acc: 0.7383\n",
      "Epoch 109/125\n",
      "1563/1562 [==============================] - 592s 379ms/step - loss: 0.9481 - acc: 0.6997 - val_loss: 0.8780 - val_acc: 0.7342\n",
      "Epoch 110/125\n",
      "1563/1562 [==============================] - 593s 380ms/step - loss: 0.9485 - acc: 0.6953 - val_loss: 0.8699 - val_acc: 0.7335\n",
      "Epoch 111/125\n",
      "1563/1562 [==============================] - 590s 378ms/step - loss: 0.9515 - acc: 0.6959 - val_loss: 0.9181 - val_acc: 0.7217\n",
      "Epoch 112/125\n",
      "1563/1562 [==============================] - 591s 378ms/step - loss: 0.9473 - acc: 0.6970 - val_loss: 0.8833 - val_acc: 0.7335\n",
      "Epoch 113/125\n",
      "1563/1562 [==============================] - 589s 377ms/step - loss: 0.9437 - acc: 0.6984 - val_loss: 0.9355 - val_acc: 0.7183\n",
      "Epoch 114/125\n",
      "1563/1562 [==============================] - 597s 382ms/step - loss: 0.9490 - acc: 0.6946 - val_loss: 0.9094 - val_acc: 0.7263\n",
      "Epoch 115/125\n",
      "1563/1562 [==============================] - 593s 379ms/step - loss: 0.9472 - acc: 0.6979 - val_loss: 0.9051 - val_acc: 0.7259\n",
      "Epoch 116/125\n"
     ]
    },
    {
     "name": "stdout",
     "output_type": "stream",
     "text": [
      "1563/1562 [==============================] - 595s 381ms/step - loss: 0.9469 - acc: 0.6985 - val_loss: 0.8361 - val_acc: 0.7474\n",
      "Epoch 117/125\n",
      "1563/1562 [==============================] - 598s 383ms/step - loss: 0.9494 - acc: 0.6933 - val_loss: 0.9177 - val_acc: 0.7254\n",
      "Epoch 118/125\n",
      "1563/1562 [==============================] - 593s 379ms/step - loss: 0.9496 - acc: 0.6950 - val_loss: 0.9110 - val_acc: 0.7293\n",
      "Epoch 119/125\n",
      "1563/1562 [==============================] - 593s 379ms/step - loss: 0.9475 - acc: 0.6960 - val_loss: 0.9058 - val_acc: 0.7272\n",
      "Epoch 120/125\n",
      "1563/1562 [==============================] - 592s 379ms/step - loss: 0.9509 - acc: 0.6947 - val_loss: 0.8916 - val_acc: 0.7277\n",
      "Epoch 121/125\n",
      "1563/1562 [==============================] - 589s 377ms/step - loss: 0.9422 - acc: 0.6986 - val_loss: 0.8880 - val_acc: 0.7283\n",
      "Epoch 122/125\n",
      "1563/1562 [==============================] - 592s 378ms/step - loss: 0.9446 - acc: 0.6978 - val_loss: 0.9125 - val_acc: 0.7244\n",
      "Epoch 123/125\n",
      "1563/1562 [==============================] - 592s 379ms/step - loss: 0.9428 - acc: 0.6969 - val_loss: 0.8850 - val_acc: 0.7288\n",
      "Epoch 124/125\n",
      "1563/1562 [==============================] - 590s 377ms/step - loss: 0.9509 - acc: 0.6963 - val_loss: 0.8338 - val_acc: 0.7431\n",
      "Epoch 125/125\n",
      "1563/1562 [==============================] - 592s 379ms/step - loss: 0.9472 - acc: 0.6963 - val_loss: 0.8306 - val_acc: 0.7469\n",
      "10000/10000 [==============================] - 41s 4ms/step\n",
      "\n",
      " Test result: 74.69% loss: 0.831\n"
     ]
    }
   ],
   "source": [
    "checkpoint = ModelCheckpoint('E:\\\\school\\\\2-2\\\\ac_eng\\\\cifar\\\\model\\\\augmented_model_2.h5',  monitor='val_loss', verbose=0, save_best_only= True, mode='auto') \n",
    "\n",
    "model_details = model.fit_generator(datagen.flow(x_train, y_train, batch_size=32),\n",
    "                    steps_per_epoch=x_train.shape[0]/32, epochs=125,\n",
    "                    verbose=1,validation_data=(x_test,y_test),callbacks=[checkpoint, LearningRateScheduler(lr_schedule)])\n",
    "\n",
    "scores = model.evaluate(x_test, y_test, batch_size=32, verbose=1)\n",
    "print('\\n Test result: %.2f%% loss: %.3f' % (scores[1]*100, scores[0]))"
   ]
  },
  {
   "cell_type": "markdown",
   "metadata": {},
   "source": [
    "### 9. 准确率/误差曲线"
   ]
  },
  {
   "cell_type": "code",
   "execution_count": 11,
   "metadata": {},
   "outputs": [],
   "source": [
    "import matplotlib.pyplot as plt\n",
    "\n",
    "def plot_model_details(model_details):\n",
    "    plt.figure(figsize=(15, 5))\n",
    "     # plot model accuracy\n",
    "    plt.subplot(1, 2, 1)\n",
    "    plt.title('Model Accuracy')\n",
    "    plt.ylabel('Accuracy')\n",
    "    plt.xlabel('Epoch')\n",
    "    plt.plot(range(1, len(model_details.history['acc'])+1), model_details.history['acc'])\n",
    "    plt.plot(range(1, len(model_details.history['val_acc'])+1), model_details.history['val_acc'])\n",
    "    plt.xticks(np.arange(1, len(model_details.history['acc'])+len(model_details.history['acc'])/10, len(model_details.history['acc'])/10))\n",
    "    plt.legend(['train', 'validation'], loc='best')\n",
    "    \n",
    "    # plot model loss\n",
    "    plt.subplot(1, 2, 2)\n",
    "    plt.title('Model Loss')\n",
    "    plt.ylabel('Loss')\n",
    "    plt.xlabel('Epoch')\n",
    "    plt.plot(range(1, len(model_details.history['loss'])+1), model_details.history['loss'])\n",
    "    plt.plot(range(1, len(model_details.history['val_loss'])+1), model_details.history['val_loss'])\n",
    "    plt.xticks(np.arange(1, len(model_details.history['loss'])+len(model_details.history['loss'])/10, len(model_details.history['loss'])/10))\n",
    "    plt.legend(['train', 'validation'], loc='best')"
   ]
  },
  {
   "cell_type": "code",
   "execution_count": 12,
   "metadata": {},
   "outputs": [
    {
     "data": {
      "image/png": "[encoded data removed]",
      "text/plain": [
       "<matplotlib.figure.Figure at 0x1b9a7ae35c0>"
      ]
     },
     "metadata": {},
     "output_type": "display_data"
    }
   ],
   "source": [
    "plot_model_details(model_details)"
   ]
  }
 ],
 "metadata": {
  "kernelspec": {
   "display_name": "Python 3",
   "language": "python",
   "name": "python3"
  },
  "language_info": {
   "codemirror_mode": {
    "name": "ipython",
    "version": 3
   },
   "file_extension": ".py",
   "mimetype": "text/x-python",
   "name": "python",
   "nbconvert_exporter": "python",
   "pygments_lexer": "ipython3",
   "version": "3.6.4"
  }
 },
 "nbformat": 4,
 "nbformat_minor": 2
}
