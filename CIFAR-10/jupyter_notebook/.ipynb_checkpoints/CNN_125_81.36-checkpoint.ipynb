{
 "cells": [
  {
   "cell_type": "markdown",
   "metadata": {},
   "source": [
    "### Keras 模型建立"
   ]
  },
  {
   "cell_type": "code",
   "execution_count": 1,
   "metadata": {},
   "outputs": [
    {
     "name": "stderr",
     "output_type": "stream",
     "text": [
      "Using TensorFlow backend.\n"
     ]
    }
   ],
   "source": [
    "import numpy as np\n",
    "import keras\n",
    "from keras.models import Sequential\n",
    "from keras.utils import np_utils\n",
    "from keras.preprocessing.image import ImageDataGenerator\n",
    "from keras.layers import Dense, Activation, Flatten, Dropout, normalization\n",
    "from keras.layers import Conv2D, MaxPooling2D\n",
    "from keras.datasets import cifar10\n",
    "from keras import regularizers\n",
    "from keras.callbacks import LearningRateScheduler, ModelCheckpoint"
   ]
  },
  {
   "cell_type": "markdown",
   "metadata": {},
   "source": [
    "###  1. 模型构建"
   ]
  },
  {
   "cell_type": "code",
   "execution_count": 2,
   "metadata": {},
   "outputs": [],
   "source": [
    "def CNN_():\n",
    "    model = Sequential()\n",
    "\n",
    "    model.add(Conv2D(96, (3,3), padding='same',  activation='relu', kernel_regularizer=regularizers.l2(1e-4), input_shape=(32, 32, 3)))\n",
    "    model.add(normalization.BatchNormalization())\n",
    "#     model.add(Conv2D(96, (3,3), padding='same',  activation='relu', kernel_regularizer=regularizers.l2(1e-4)))\n",
    "#     model.add(normalization.BatchNormalization())\n",
    "    model.add(MaxPooling2D(pool_size=(2,2)))\n",
    "    model.add(Dropout(0.3))\n",
    "                         \n",
    "    model.add(Conv2D(192, (3,3), padding='same', activation='relu',  kernel_regularizer=regularizers.l2(1e-4)))\n",
    "    model.add(normalization.BatchNormalization())\n",
    "#     model.add(Conv2D(64, (3,3), padding='same',  activation='relu', kernel_regularizer=regularizers.l2(1e-4)))\n",
    "#     model.add(normalization.BatchNormalization())\n",
    "    model.add(MaxPooling2D(pool_size=(2,2)))\n",
    "    model.add(Dropout(0.4))\n",
    "\n",
    "    model.add(Conv2D(192, (3,3), padding='same', activation='relu', kernel_regularizer=regularizers.l2(1e-4)))\n",
    "    model.add(normalization.BatchNormalization())\n",
    "#     model.add(Conv2D(128, (3,3), padding='same', activation='relu', kernel_regularizer=regularizers.l2(1e-4)))\n",
    "#     model.add(normalization.BatchNormalization())\n",
    "    model.add(MaxPooling2D(pool_size=(2,2)))\n",
    "    model.add(Dropout(0.5))\n",
    "                         \n",
    "    model.add(Flatten())\n",
    "    model.add(Dense(10, activation='softmax'))        \n",
    "    \n",
    "    model.summary()\n",
    "    return model"
   ]
  },
  {
   "cell_type": "code",
   "execution_count": 3,
   "metadata": {},
   "outputs": [
    {
     "name": "stdout",
     "output_type": "stream",
     "text": [
      "_________________________________________________________________\n",
      "Layer (type)                 Output Shape              Param #   \n",
      "=================================================================\n",
      "conv2d_1 (Conv2D)            (None, 32, 32, 96)        2688      \n",
      "_________________________________________________________________\n",
      "batch_normalization_1 (Batch (None, 32, 32, 96)        384       \n",
      "_________________________________________________________________\n",
      "max_pooling2d_1 (MaxPooling2 (None, 16, 16, 96)        0         \n",
      "_________________________________________________________________\n",
      "dropout_1 (Dropout)          (None, 16, 16, 96)        0         \n",
      "_________________________________________________________________\n",
      "conv2d_2 (Conv2D)            (None, 16, 16, 192)       166080    \n",
      "_________________________________________________________________\n",
      "batch_normalization_2 (Batch (None, 16, 16, 192)       768       \n",
      "_________________________________________________________________\n",
      "max_pooling2d_2 (MaxPooling2 (None, 8, 8, 192)         0         \n",
      "_________________________________________________________________\n",
      "dropout_2 (Dropout)          (None, 8, 8, 192)         0         \n",
      "_________________________________________________________________\n",
      "conv2d_3 (Conv2D)            (None, 8, 8, 192)         331968    \n",
      "_________________________________________________________________\n",
      "batch_normalization_3 (Batch (None, 8, 8, 192)         768       \n",
      "_________________________________________________________________\n",
      "max_pooling2d_3 (MaxPooling2 (None, 4, 4, 192)         0         \n",
      "_________________________________________________________________\n",
      "dropout_3 (Dropout)          (None, 4, 4, 192)         0         \n",
      "_________________________________________________________________\n",
      "flatten_1 (Flatten)          (None, 3072)              0         \n",
      "_________________________________________________________________\n",
      "dense_1 (Dense)              (None, 10)                30730     \n",
      "=================================================================\n",
      "Total params: 533,386\n",
      "Trainable params: 532,426\n",
      "Non-trainable params: 960\n",
      "_________________________________________________________________\n"
     ]
    }
   ],
   "source": [
    "model = CNN_()"
   ]
  },
  {
   "cell_type": "markdown",
   "metadata": {},
   "source": [
    "###  2. 定义损失函数和训练模型"
   ]
  },
  {
   "cell_type": "code",
   "execution_count": 4,
   "metadata": {},
   "outputs": [],
   "source": [
    "opt_rms = keras.optimizers.rmsprop(lr=0.001,decay=1e-6)\n",
    "model.compile(loss='categorical_crossentropy', optimizer=opt_rms, metrics=['accuracy'])"
   ]
  },
  {
   "cell_type": "markdown",
   "metadata": {},
   "source": [
    "### 3. 定义可变的学习速率"
   ]
  },
  {
   "cell_type": "code",
   "execution_count": 5,
   "metadata": {},
   "outputs": [],
   "source": [
    "def lr_schedule(epoch):\n",
    "    lrate = 0.001\n",
    "    if epoch > 75:\n",
    "        lrate = 0.0005\n",
    "    elif epoch > 100:\n",
    "        lrate = 0.0003        \n",
    "    return lrate"
   ]
  },
  {
   "cell_type": "markdown",
   "metadata": {},
   "source": [
    "### 4. 加载数据"
   ]
  },
  {
   "cell_type": "code",
   "execution_count": 6,
   "metadata": {},
   "outputs": [],
   "source": [
    "(x_train, y_train), (x_test, y_test) = cifar10.load_data()\n",
    "x_train = x_train.astype('float32')\n",
    "x_test = x_test.astype('float32')"
   ]
  },
  {
   "cell_type": "markdown",
   "metadata": {},
   "source": [
    "### 5. 标准化数据 Z-Score"
   ]
  },
  {
   "cell_type": "code",
   "execution_count": 7,
   "metadata": {},
   "outputs": [],
   "source": [
    "mean = np.mean(x_train,axis=(0,1,2,3))\n",
    "std = np.std(x_train,axis=(0,1,2,3))\n",
    "x_train = (x_train-mean)/(std+1e-7)\n",
    "x_test = (x_test-mean)/(std+1e-7)"
   ]
  },
  {
   "cell_type": "markdown",
   "metadata": {},
   "source": [
    "### 6. 对输出进行One-hot编码"
   ]
  },
  {
   "cell_type": "code",
   "execution_count": 8,
   "metadata": {},
   "outputs": [],
   "source": [
    "num_classes = 10\n",
    "y_train = np_utils.to_categorical(y_train, num_classes)\n",
    "y_test = np_utils.to_categorical(y_test, num_classes)"
   ]
  },
  {
   "cell_type": "markdown",
   "metadata": {},
   "source": [
    "### 7. 增广数据集"
   ]
  },
  {
   "cell_type": "code",
   "execution_count": 9,
   "metadata": {},
   "outputs": [],
   "source": [
    "datagen = ImageDataGenerator(\n",
    "    rotation_range=15,\n",
    "    width_shift_range=0.1,\n",
    "    height_shift_range=0.1,\n",
    "    horizontal_flip=True,\n",
    "    )\n",
    "datagen.fit(x_train)"
   ]
  },
  {
   "cell_type": "markdown",
   "metadata": {},
   "source": [
    "### 8. 训练模型并保存"
   ]
  },
  {
   "cell_type": "code",
   "execution_count": 10,
   "metadata": {},
   "outputs": [
    {
     "name": "stdout",
     "output_type": "stream",
     "text": [
      "WARNING:tensorflow:Variable *= will be deprecated. Use variable.assign_mul if you want assignment to the variable value or 'x = x * y' if you want a new python Tensor object.\n",
      "Epoch 1/125\n",
      "1563/1562 [==============================] - 199s 127ms/step - loss: 2.2142 - acc: 0.4125 - val_loss: 1.6298 - val_acc: 0.5446\n",
      "Epoch 2/125\n",
      "1563/1562 [==============================] - 193s 124ms/step - loss: 1.7805 - acc: 0.5347 - val_loss: 1.3602 - val_acc: 0.6058\n",
      "Epoch 3/125\n",
      "1563/1562 [==============================] - 192s 123ms/step - loss: 1.6736 - acc: 0.5776 - val_loss: 1.2169 - val_acc: 0.6665\n",
      "Epoch 4/125\n",
      "1563/1562 [==============================] - 190s 122ms/step - loss: 1.6181 - acc: 0.5997 - val_loss: 1.1916 - val_acc: 0.6825\n",
      "Epoch 5/125\n",
      "1563/1562 [==============================] - 191s 122ms/step - loss: 1.5769 - acc: 0.6195 - val_loss: 1.2042 - val_acc: 0.6834\n",
      "Epoch 6/125\n",
      "1563/1562 [==============================] - 190s 122ms/step - loss: 1.5331 - acc: 0.6328 - val_loss: 1.0854 - val_acc: 0.7158\n",
      "Epoch 7/125\n",
      "1563/1562 [==============================] - 190s 122ms/step - loss: 1.4799 - acc: 0.6413 - val_loss: 1.0745 - val_acc: 0.7192\n",
      "Epoch 8/125\n",
      "1563/1562 [==============================] - 190s 122ms/step - loss: 1.4011 - acc: 0.6549 - val_loss: 1.1556 - val_acc: 0.7028\n",
      "Epoch 9/125\n",
      "1563/1562 [==============================] - 190s 121ms/step - loss: 1.3132 - acc: 0.6653 - val_loss: 0.9885 - val_acc: 0.7379\n",
      "Epoch 10/125\n",
      "1563/1562 [==============================] - 189s 121ms/step - loss: 1.1963 - acc: 0.6743 - val_loss: 1.0034 - val_acc: 0.7333\n",
      "Epoch 11/125\n",
      "1563/1562 [==============================] - 189s 121ms/step - loss: 1.1144 - acc: 0.6831 - val_loss: 1.0202 - val_acc: 0.7244\n",
      "Epoch 12/125\n",
      "1563/1562 [==============================] - 190s 122ms/step - loss: 1.0739 - acc: 0.6955 - val_loss: 0.9297 - val_acc: 0.7449\n",
      "Epoch 13/125\n",
      "1563/1562 [==============================] - 191s 122ms/step - loss: 1.0486 - acc: 0.7010 - val_loss: 0.9371 - val_acc: 0.7470\n",
      "Epoch 14/125\n",
      "1563/1562 [==============================] - 192s 123ms/step - loss: 1.0285 - acc: 0.7072 - val_loss: 0.9082 - val_acc: 0.7491\n",
      "Epoch 15/125\n",
      "1563/1562 [==============================] - 190s 121ms/step - loss: 1.0136 - acc: 0.7122 - val_loss: 0.9260 - val_acc: 0.7433\n",
      "Epoch 16/125\n",
      "1563/1562 [==============================] - 190s 122ms/step - loss: 1.0099 - acc: 0.7137 - val_loss: 0.8409 - val_acc: 0.7770\n",
      "Epoch 17/125\n",
      "1563/1562 [==============================] - 191s 122ms/step - loss: 0.9992 - acc: 0.7172 - val_loss: 0.8592 - val_acc: 0.7691\n",
      "Epoch 18/125\n",
      "1563/1562 [==============================] - 191s 122ms/step - loss: 0.9945 - acc: 0.7188 - val_loss: 0.8777 - val_acc: 0.7669\n",
      "Epoch 19/125\n",
      "1563/1562 [==============================] - 191s 122ms/step - loss: 0.9761 - acc: 0.7250 - val_loss: 0.8775 - val_acc: 0.7632\n",
      "Epoch 20/125\n",
      "1563/1562 [==============================] - 191s 123ms/step - loss: 0.9741 - acc: 0.7251 - val_loss: 0.8911 - val_acc: 0.7686\n",
      "Epoch 21/125\n",
      "1563/1562 [==============================] - 191s 122ms/step - loss: 0.9764 - acc: 0.7249 - val_loss: 0.8960 - val_acc: 0.7568\n",
      "Epoch 22/125\n",
      "1563/1562 [==============================] - 191s 122ms/step - loss: 0.9686 - acc: 0.7303 - val_loss: 0.8913 - val_acc: 0.7647\n",
      "Epoch 23/125\n",
      "1563/1562 [==============================] - 191s 122ms/step - loss: 0.9685 - acc: 0.7296 - val_loss: 0.8071 - val_acc: 0.7936\n",
      "Epoch 24/125\n",
      "1563/1562 [==============================] - 191s 122ms/step - loss: 0.9590 - acc: 0.7313 - val_loss: 0.8664 - val_acc: 0.7730\n",
      "Epoch 25/125\n",
      "1563/1562 [==============================] - 192s 123ms/step - loss: 0.9571 - acc: 0.7335 - val_loss: 0.8717 - val_acc: 0.7631\n",
      "Epoch 26/125\n",
      "1563/1562 [==============================] - 192s 123ms/step - loss: 0.9620 - acc: 0.7318 - val_loss: 0.8465 - val_acc: 0.7790\n",
      "Epoch 27/125\n",
      "1563/1562 [==============================] - 192s 123ms/step - loss: 0.9553 - acc: 0.7324 - val_loss: 0.8677 - val_acc: 0.7660\n",
      "Epoch 28/125\n",
      "1563/1562 [==============================] - 194s 124ms/step - loss: 0.9553 - acc: 0.7350 - val_loss: 0.7657 - val_acc: 0.8045\n",
      "Epoch 29/125\n",
      "1563/1562 [==============================] - 193s 123ms/step - loss: 0.9480 - acc: 0.7378 - val_loss: 0.8066 - val_acc: 0.7888\n",
      "Epoch 30/125\n",
      "1563/1562 [==============================] - 192s 123ms/step - loss: 0.9460 - acc: 0.7412 - val_loss: 0.8413 - val_acc: 0.7840\n",
      "Epoch 31/125\n",
      "1563/1562 [==============================] - 192s 123ms/step - loss: 0.9527 - acc: 0.7368 - val_loss: 0.9201 - val_acc: 0.7600\n",
      "Epoch 32/125\n",
      "1563/1562 [==============================] - 192s 123ms/step - loss: 0.9449 - acc: 0.7406 - val_loss: 0.7951 - val_acc: 0.7957\n",
      "Epoch 33/125\n",
      "1563/1562 [==============================] - 191s 122ms/step - loss: 0.9410 - acc: 0.7404 - val_loss: 0.8744 - val_acc: 0.7663\n",
      "Epoch 34/125\n",
      "1563/1562 [==============================] - 192s 123ms/step - loss: 0.9396 - acc: 0.7417 - val_loss: 0.7824 - val_acc: 0.7966\n",
      "Epoch 35/125\n",
      "1563/1562 [==============================] - 192s 123ms/step - loss: 0.9417 - acc: 0.7402 - val_loss: 0.7731 - val_acc: 0.8029\n",
      "Epoch 36/125\n",
      "1563/1562 [==============================] - 192s 123ms/step - loss: 0.9343 - acc: 0.7443 - val_loss: 0.8600 - val_acc: 0.7753\n",
      "Epoch 37/125\n",
      "1563/1562 [==============================] - 191s 122ms/step - loss: 0.9330 - acc: 0.7454 - val_loss: 0.8468 - val_acc: 0.7798\n",
      "Epoch 38/125\n",
      "1563/1562 [==============================] - 193s 124ms/step - loss: 0.9356 - acc: 0.7413 - val_loss: 0.9213 - val_acc: 0.7665\n",
      "Epoch 39/125\n",
      "1563/1562 [==============================] - 190s 121ms/step - loss: 0.9284 - acc: 0.7461 - val_loss: 0.8801 - val_acc: 0.7707\n",
      "Epoch 40/125\n",
      "1563/1562 [==============================] - 191s 122ms/step - loss: 0.9357 - acc: 0.7434 - val_loss: 0.8467 - val_acc: 0.7739\n",
      "Epoch 41/125\n",
      "1563/1562 [==============================] - 191s 122ms/step - loss: 0.9323 - acc: 0.7445 - val_loss: 0.8170 - val_acc: 0.7889\n",
      "Epoch 42/125\n",
      "1563/1562 [==============================] - 192s 123ms/step - loss: 0.9326 - acc: 0.7464 - val_loss: 0.8047 - val_acc: 0.7880\n",
      "Epoch 43/125\n",
      "1563/1562 [==============================] - 193s 124ms/step - loss: 0.9306 - acc: 0.7436 - val_loss: 0.8075 - val_acc: 0.7960\n",
      "Epoch 44/125\n",
      "1563/1562 [==============================] - 191s 122ms/step - loss: 0.9217 - acc: 0.7499 - val_loss: 0.7756 - val_acc: 0.7973\n",
      "Epoch 45/125\n",
      "1563/1562 [==============================] - 193s 123ms/step - loss: 0.9245 - acc: 0.7472 - val_loss: 0.8173 - val_acc: 0.7912\n",
      "Epoch 46/125\n",
      "1563/1562 [==============================] - 193s 123ms/step - loss: 0.9235 - acc: 0.7464 - val_loss: 0.7799 - val_acc: 0.7997\n",
      "Epoch 47/125\n",
      "1563/1562 [==============================] - 192s 123ms/step - loss: 0.9236 - acc: 0.7490 - val_loss: 0.8965 - val_acc: 0.7630\n",
      "Epoch 48/125\n",
      "1563/1562 [==============================] - 192s 123ms/step - loss: 0.9281 - acc: 0.7452 - val_loss: 0.8022 - val_acc: 0.7895\n",
      "Epoch 49/125\n",
      "1563/1562 [==============================] - 192s 123ms/step - loss: 0.9208 - acc: 0.7495 - val_loss: 0.8695 - val_acc: 0.7663\n",
      "Epoch 50/125\n",
      "1563/1562 [==============================] - 192s 123ms/step - loss: 0.9219 - acc: 0.7511 - val_loss: 0.7373 - val_acc: 0.8165\n",
      "Epoch 51/125\n",
      "1563/1562 [==============================] - 191s 122ms/step - loss: 0.9174 - acc: 0.7498 - val_loss: 0.8017 - val_acc: 0.7900\n",
      "Epoch 52/125\n",
      "1563/1562 [==============================] - 193s 123ms/step - loss: 0.9200 - acc: 0.7491 - val_loss: 0.8069 - val_acc: 0.7944\n",
      "Epoch 53/125\n",
      "1563/1562 [==============================] - 193s 123ms/step - loss: 0.9165 - acc: 0.7510 - val_loss: 0.7736 - val_acc: 0.8018\n",
      "Epoch 54/125\n",
      "1563/1562 [==============================] - 196s 126ms/step - loss: 0.9180 - acc: 0.7492 - val_loss: 0.7956 - val_acc: 0.7926\n",
      "Epoch 55/125\n",
      "1563/1562 [==============================] - 193s 123ms/step - loss: 0.9241 - acc: 0.7488 - val_loss: 0.7564 - val_acc: 0.8066\n",
      "Epoch 56/125\n",
      "1563/1562 [==============================] - 193s 123ms/step - loss: 0.9157 - acc: 0.7521 - val_loss: 0.7888 - val_acc: 0.7960\n",
      "Epoch 57/125\n",
      "1563/1562 [==============================] - 192s 123ms/step - loss: 0.9153 - acc: 0.7504 - val_loss: 0.8161 - val_acc: 0.7892\n",
      "Epoch 58/125\n"
     ]
    },
    {
     "name": "stdout",
     "output_type": "stream",
     "text": [
      "1563/1562 [==============================] - 190s 122ms/step - loss: 0.9136 - acc: 0.7514 - val_loss: 0.7886 - val_acc: 0.7971\n",
      "Epoch 59/125\n",
      "1563/1562 [==============================] - 190s 121ms/step - loss: 0.9113 - acc: 0.7523 - val_loss: 0.7895 - val_acc: 0.8026\n",
      "Epoch 60/125\n",
      "1563/1562 [==============================] - 189s 121ms/step - loss: 0.9120 - acc: 0.7522 - val_loss: 0.8074 - val_acc: 0.7938\n",
      "Epoch 61/125\n",
      "1563/1562 [==============================] - 189s 121ms/step - loss: 0.9160 - acc: 0.7505 - val_loss: 0.7556 - val_acc: 0.8090\n",
      "Epoch 62/125\n",
      "1563/1562 [==============================] - 188s 121ms/step - loss: 0.9136 - acc: 0.7523 - val_loss: 0.8019 - val_acc: 0.7890\n",
      "Epoch 63/125\n",
      "1563/1562 [==============================] - 189s 121ms/step - loss: 0.9096 - acc: 0.7518 - val_loss: 0.7963 - val_acc: 0.8002\n",
      "Epoch 64/125\n",
      "1563/1562 [==============================] - 189s 121ms/step - loss: 0.9039 - acc: 0.7546 - val_loss: 0.7177 - val_acc: 0.8187\n",
      "Epoch 65/125\n",
      "1563/1562 [==============================] - 186s 119ms/step - loss: 0.9090 - acc: 0.7533 - val_loss: 0.7879 - val_acc: 0.7967\n",
      "Epoch 66/125\n",
      "1563/1562 [==============================] - 182s 116ms/step - loss: 0.9075 - acc: 0.7537 - val_loss: 0.9377 - val_acc: 0.7594\n",
      "Epoch 67/125\n",
      "1563/1562 [==============================] - 182s 116ms/step - loss: 0.9090 - acc: 0.7533 - val_loss: 0.8645 - val_acc: 0.7778\n",
      "Epoch 68/125\n",
      "1563/1562 [==============================] - 182s 116ms/step - loss: 0.8993 - acc: 0.7559 - val_loss: 0.7593 - val_acc: 0.8065\n",
      "Epoch 69/125\n",
      "1563/1562 [==============================] - 182s 116ms/step - loss: 0.9075 - acc: 0.7538 - val_loss: 0.7977 - val_acc: 0.7905\n",
      "Epoch 70/125\n",
      "1563/1562 [==============================] - 182s 116ms/step - loss: 0.9049 - acc: 0.7546 - val_loss: 0.7521 - val_acc: 0.8122\n",
      "Epoch 71/125\n",
      "1563/1562 [==============================] - 182s 116ms/step - loss: 0.9036 - acc: 0.7555 - val_loss: 0.7908 - val_acc: 0.7924\n",
      "Epoch 72/125\n",
      "1563/1562 [==============================] - 182s 116ms/step - loss: 0.9047 - acc: 0.7558 - val_loss: 0.8069 - val_acc: 0.7918\n",
      "Epoch 73/125\n",
      "1563/1562 [==============================] - 182s 116ms/step - loss: 0.9030 - acc: 0.7533 - val_loss: 0.7871 - val_acc: 0.7967\n",
      "Epoch 74/125\n",
      "1563/1562 [==============================] - 185s 118ms/step - loss: 0.9013 - acc: 0.7563 - val_loss: 0.8368 - val_acc: 0.7819\n",
      "Epoch 75/125\n",
      "1563/1562 [==============================] - 189s 121ms/step - loss: 0.9064 - acc: 0.7552 - val_loss: 0.7719 - val_acc: 0.8072\n",
      "Epoch 76/125\n",
      "1563/1562 [==============================] - 189s 121ms/step - loss: 0.8976 - acc: 0.7585 - val_loss: 0.8134 - val_acc: 0.7904\n",
      "Epoch 77/125\n",
      "1563/1562 [==============================] - 189s 121ms/step - loss: 0.8451 - acc: 0.7736 - val_loss: 0.7391 - val_acc: 0.8134\n",
      "Epoch 78/125\n",
      "1563/1562 [==============================] - 189s 121ms/step - loss: 0.8188 - acc: 0.7784 - val_loss: 0.7064 - val_acc: 0.8205\n",
      "Epoch 79/125\n",
      "1563/1562 [==============================] - 189s 121ms/step - loss: 0.8087 - acc: 0.7809 - val_loss: 0.6812 - val_acc: 0.8255\n",
      "Epoch 80/125\n",
      "1563/1562 [==============================] - 188s 121ms/step - loss: 0.8015 - acc: 0.7819 - val_loss: 0.7003 - val_acc: 0.8184\n",
      "Epoch 81/125\n",
      "1563/1562 [==============================] - 184s 118ms/step - loss: 0.7929 - acc: 0.7823 - val_loss: 0.6740 - val_acc: 0.8286\n",
      "Epoch 82/125\n",
      "1563/1562 [==============================] - 182s 116ms/step - loss: 0.7872 - acc: 0.7815 - val_loss: 0.6921 - val_acc: 0.8164\n",
      "Epoch 83/125\n",
      "1563/1562 [==============================] - 182s 116ms/step - loss: 0.7790 - acc: 0.7845 - val_loss: 0.6912 - val_acc: 0.8151\n",
      "Epoch 84/125\n",
      "1563/1562 [==============================] - 182s 116ms/step - loss: 0.7768 - acc: 0.7845 - val_loss: 0.7101 - val_acc: 0.8072\n",
      "Epoch 85/125\n",
      "1563/1562 [==============================] - 186s 119ms/step - loss: 0.7677 - acc: 0.7859 - val_loss: 0.6534 - val_acc: 0.8271\n",
      "Epoch 86/125\n",
      "1563/1562 [==============================] - 188s 120ms/step - loss: 0.7596 - acc: 0.7882 - val_loss: 0.7219 - val_acc: 0.8048\n",
      "Epoch 87/125\n",
      "1563/1562 [==============================] - 188s 121ms/step - loss: 0.7668 - acc: 0.7857 - val_loss: 0.7294 - val_acc: 0.8058\n",
      "Epoch 88/125\n",
      "1563/1562 [==============================] - 188s 121ms/step - loss: 0.7638 - acc: 0.7848 - val_loss: 0.7212 - val_acc: 0.8016\n",
      "Epoch 89/125\n",
      "1563/1562 [==============================] - 189s 121ms/step - loss: 0.7561 - acc: 0.7862 - val_loss: 0.6478 - val_acc: 0.8269\n",
      "Epoch 90/125\n",
      "1563/1562 [==============================] - 189s 121ms/step - loss: 0.7576 - acc: 0.7873 - val_loss: 0.6652 - val_acc: 0.8169\n",
      "Epoch 91/125\n",
      "1563/1562 [==============================] - 188s 121ms/step - loss: 0.7582 - acc: 0.7853 - val_loss: 0.6501 - val_acc: 0.8274\n",
      "Epoch 92/125\n",
      "1563/1562 [==============================] - 188s 121ms/step - loss: 0.7574 - acc: 0.7872 - val_loss: 0.6317 - val_acc: 0.8306\n",
      "Epoch 93/125\n",
      "1563/1562 [==============================] - 189s 121ms/step - loss: 0.7517 - acc: 0.7876 - val_loss: 0.6604 - val_acc: 0.8214\n",
      "Epoch 94/125\n",
      "1563/1562 [==============================] - 189s 121ms/step - loss: 0.7482 - acc: 0.7901 - val_loss: 0.6678 - val_acc: 0.8186\n",
      "Epoch 95/125\n",
      "1563/1562 [==============================] - 188s 121ms/step - loss: 0.7511 - acc: 0.7889 - val_loss: 0.6641 - val_acc: 0.8214\n",
      "Epoch 96/125\n",
      "1563/1562 [==============================] - 188s 121ms/step - loss: 0.7530 - acc: 0.7876 - val_loss: 0.6273 - val_acc: 0.8326\n",
      "Epoch 97/125\n",
      "1563/1562 [==============================] - 188s 121ms/step - loss: 0.7498 - acc: 0.7880 - val_loss: 0.6839 - val_acc: 0.8141\n",
      "Epoch 98/125\n",
      "1563/1562 [==============================] - 188s 121ms/step - loss: 0.7488 - acc: 0.7875 - val_loss: 0.6950 - val_acc: 0.8110\n",
      "Epoch 99/125\n",
      "1563/1562 [==============================] - 188s 121ms/step - loss: 0.7483 - acc: 0.7898 - val_loss: 0.6464 - val_acc: 0.8255\n",
      "Epoch 100/125\n",
      "1563/1562 [==============================] - 188s 121ms/step - loss: 0.7383 - acc: 0.7938 - val_loss: 0.6800 - val_acc: 0.8160\n",
      "Epoch 101/125\n",
      "1563/1562 [==============================] - 189s 121ms/step - loss: 0.7423 - acc: 0.7886 - val_loss: 0.6344 - val_acc: 0.8272\n",
      "Epoch 102/125\n",
      "1563/1562 [==============================] - 188s 121ms/step - loss: 0.7432 - acc: 0.7916 - val_loss: 0.6844 - val_acc: 0.8116\n",
      "Epoch 103/125\n",
      "1563/1562 [==============================] - 189s 121ms/step - loss: 0.7385 - acc: 0.7911 - val_loss: 0.6509 - val_acc: 0.8222\n",
      "Epoch 104/125\n",
      "1563/1562 [==============================] - 188s 121ms/step - loss: 0.7398 - acc: 0.7908 - val_loss: 0.6370 - val_acc: 0.8269\n",
      "Epoch 105/125\n",
      "1563/1562 [==============================] - 188s 121ms/step - loss: 0.7383 - acc: 0.7916 - val_loss: 0.6617 - val_acc: 0.8198\n",
      "Epoch 106/125\n",
      "1563/1562 [==============================] - 188s 121ms/step - loss: 0.7378 - acc: 0.7923 - val_loss: 0.6572 - val_acc: 0.8199\n",
      "Epoch 107/125\n",
      "1563/1562 [==============================] - 188s 121ms/step - loss: 0.7405 - acc: 0.7907 - val_loss: 0.7186 - val_acc: 0.8043\n",
      "Epoch 108/125\n",
      "1563/1562 [==============================] - 188s 121ms/step - loss: 0.7419 - acc: 0.7903 - val_loss: 0.6743 - val_acc: 0.8120\n",
      "Epoch 109/125\n",
      "1563/1562 [==============================] - 188s 121ms/step - loss: 0.7393 - acc: 0.7897 - val_loss: 0.6853 - val_acc: 0.8131\n",
      "Epoch 110/125\n",
      "1563/1562 [==============================] - 188s 121ms/step - loss: 0.7360 - acc: 0.7903 - val_loss: 0.6179 - val_acc: 0.8320\n",
      "Epoch 111/125\n",
      "1563/1562 [==============================] - 188s 121ms/step - loss: 0.7346 - acc: 0.7921 - val_loss: 0.6257 - val_acc: 0.8337\n",
      "Epoch 112/125\n",
      "1563/1562 [==============================] - 189s 121ms/step - loss: 0.7387 - acc: 0.7906 - val_loss: 0.6507 - val_acc: 0.8240\n",
      "Epoch 113/125\n",
      "1563/1562 [==============================] - 192s 123ms/step - loss: 0.7341 - acc: 0.7934 - val_loss: 0.6277 - val_acc: 0.8331\n",
      "Epoch 114/125\n",
      "1563/1562 [==============================] - 192s 123ms/step - loss: 0.7361 - acc: 0.7932 - val_loss: 0.6787 - val_acc: 0.8138\n",
      "Epoch 115/125\n",
      "1563/1562 [==============================] - 192s 123ms/step - loss: 0.7307 - acc: 0.7936 - val_loss: 0.6925 - val_acc: 0.8111\n",
      "Epoch 116/125\n"
     ]
    },
    {
     "name": "stdout",
     "output_type": "stream",
     "text": [
      "1563/1562 [==============================] - 189s 121ms/step - loss: 0.7372 - acc: 0.7911 - val_loss: 0.6431 - val_acc: 0.8260\n",
      "Epoch 117/125\n",
      "1563/1562 [==============================] - 189s 121ms/step - loss: 0.7279 - acc: 0.7949 - val_loss: 0.6692 - val_acc: 0.8213\n",
      "Epoch 118/125\n",
      "1563/1562 [==============================] - 189s 121ms/step - loss: 0.7299 - acc: 0.7934 - val_loss: 0.6778 - val_acc: 0.8162\n",
      "Epoch 119/125\n",
      "1563/1562 [==============================] - 190s 121ms/step - loss: 0.7338 - acc: 0.7932 - val_loss: 0.6633 - val_acc: 0.8190\n",
      "Epoch 120/125\n",
      "1563/1562 [==============================] - 190s 122ms/step - loss: 0.7333 - acc: 0.7906 - val_loss: 0.6602 - val_acc: 0.8170\n",
      "Epoch 121/125\n",
      "1563/1562 [==============================] - 190s 122ms/step - loss: 0.7320 - acc: 0.7939 - val_loss: 0.6663 - val_acc: 0.8193\n",
      "Epoch 122/125\n",
      "1563/1562 [==============================] - 191s 122ms/step - loss: 0.7331 - acc: 0.7922 - val_loss: 0.6129 - val_acc: 0.8382\n",
      "Epoch 123/125\n",
      "1563/1562 [==============================] - 190s 122ms/step - loss: 0.7327 - acc: 0.7941 - val_loss: 0.6411 - val_acc: 0.8260\n",
      "Epoch 124/125\n",
      "1563/1562 [==============================] - 191s 122ms/step - loss: 0.7293 - acc: 0.7951 - val_loss: 0.6126 - val_acc: 0.8352\n",
      "Epoch 125/125\n",
      "1563/1562 [==============================] - 191s 122ms/step - loss: 0.7282 - acc: 0.7948 - val_loss: 0.6746 - val_acc: 0.8136\n",
      "10000/10000 [==============================] - 12s 1ms/step\n",
      "\n",
      " Test result: 81.36% loss: 0.675\n"
     ]
    }
   ],
   "source": [
    "checkpoint = ModelCheckpoint('E:\\\\school\\\\2-2\\\\ac_eng\\\\cifar\\\\model\\\\augmented_model_2.h5',  monitor='val_loss', verbose=0, save_best_only= True, mode='auto') \n",
    "\n",
    "model_details = model.fit_generator(datagen.flow(x_train, y_train, batch_size=32),\n",
    "                    steps_per_epoch=x_train.shape[0]/32, epochs=125,\n",
    "                    verbose=1,validation_data=(x_test,y_test),callbacks=[checkpoint, LearningRateScheduler(lr_schedule)])\n",
    "\n",
    "scores = model.evaluate(x_test, y_test, batch_size=32, verbose=1)\n",
    "print('\\n Test result: %.2f%% loss: %.3f' % (scores[1]*100, scores[0]))"
   ]
  },
  {
   "cell_type": "markdown",
   "metadata": {},
   "source": [
    "### 9. 准确率/误差曲线"
   ]
  },
  {
   "cell_type": "code",
   "execution_count": 11,
   "metadata": {},
   "outputs": [],
   "source": [
    "import matplotlib.pyplot as plt\n",
    "\n",
    "def plot_model_details(model_details):\n",
    "    plt.figure(figsize=(15, 5))\n",
    "     # plot model accuracy\n",
    "    plt.subplot(1, 2, 1)\n",
    "    plt.title('Model Accuracy')\n",
    "    plt.ylabel('Accuracy')\n",
    "    plt.xlabel('Epoch')\n",
    "    plt.plot(range(1, len(model_details.history['acc'])+1), model_details.history['acc'])\n",
    "    plt.plot(range(1, len(model_details.history['val_acc'])+1), model_details.history['val_acc'])\n",
    "    plt.xticks(np.arange(1, len(model_details.history['acc'])+len(model_details.history['acc'])/10, len(model_details.history['acc'])/10))\n",
    "    plt.legend(['train', 'validation'], loc='best')\n",
    "    \n",
    "    # plot model loss\n",
    "    plt.subplot(1, 2, 2)\n",
    "    plt.title('Model Loss')\n",
    "    plt.ylabel('Loss')\n",
    "    plt.xlabel('Epoch')\n",
    "    plt.plot(range(1, len(model_details.history['loss'])+1), model_details.history['loss'])\n",
    "    plt.plot(range(1, len(model_details.history['val_loss'])+1), model_details.history['val_loss'])\n",
    "    plt.xticks(np.arange(1, len(model_details.history['loss'])+len(model_details.history['loss'])/10, len(model_details.history['loss'])/10))\n",
    "    plt.legend(['train', 'validation'], loc='best')"
   ]
  },
  {
   "cell_type": "code",
   "execution_count": 12,
   "metadata": {},
   "outputs": [
    {
     "data": {
      "image/png": "[encoded data removed]",
      "text/plain": [
       "<matplotlib.figure.Figure at 0x26fe2096668>"
      ]
     },
     "metadata": {},
     "output_type": "display_data"
    }
   ],
   "source": [
    "plot_model_details(model_details)"
   ]
  }
 ],
 "metadata": {
  "kernelspec": {
   "display_name": "Python 3",
   "language": "python",
   "name": "python3"
  },
  "language_info": {
   "codemirror_mode": {
    "name": "ipython",
    "version": 3
   },
   "file_extension": ".py",
   "mimetype": "text/x-python",
   "name": "python",
   "nbconvert_exporter": "python",
   "pygments_lexer": "ipython3",
   "version": "3.6.4"
  }
 },
 "nbformat": 4,
 "nbformat_minor": 2
}
