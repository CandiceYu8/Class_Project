{
 "cells": [
  {
   "cell_type": "markdown",
   "metadata": {},
   "source": [
    "### Keras 模型建立"
   ]
  },
  {
   "cell_type": "code",
   "execution_count": 1,
   "metadata": {},
   "outputs": [
    {
     "name": "stderr",
     "output_type": "stream",
     "text": [
      "Using TensorFlow backend.\n"
     ]
    }
   ],
   "source": [
    "import numpy as np\n",
    "import keras\n",
    "from keras.models import Sequential\n",
    "from keras.utils import np_utils\n",
    "from keras.preprocessing.image import ImageDataGenerator\n",
    "from keras.layers import Dense, Activation, Flatten, Dropout, normalization\n",
    "from keras.layers import Conv2D, MaxPooling2D\n",
    "from keras.datasets import cifar10\n",
    "from keras import regularizers\n",
    "from keras.callbacks import LearningRateScheduler, ModelCheckpoint"
   ]
  },
  {
   "cell_type": "markdown",
   "metadata": {},
   "source": [
    "###  1. 模型构建"
   ]
  },
  {
   "cell_type": "code",
   "execution_count": 2,
   "metadata": {},
   "outputs": [],
   "source": [
    "def CNN_():\n",
    "    model = Sequential()\n",
    "\n",
    "    model.add(Conv2D(32, (3,3), padding='same', kernel_regularizer=regularizers.l2(1e-4), input_shape=(32, 32, 3)))\n",
    "    model.add(normalization.BatchNormalization())\n",
    "    model.add(Conv2D(32, (3,3), padding='same', kernel_regularizer=regularizers.l2(1e-4)))\n",
    "    model.add(normalization.BatchNormalization())\n",
    "    model.add(MaxPooling2D(pool_size=(2,2)))\n",
    "    model.add(Dropout(0.2))\n",
    "                         \n",
    "    model.add(Conv2D(64, (3,3), padding='same', kernel_regularizer=regularizers.l2(1e-4)))\n",
    "    model.add(normalization.BatchNormalization())\n",
    "    model.add(Conv2D(64, (3,3), padding='same', kernel_regularizer=regularizers.l2(1e-4)))\n",
    "    model.add(normalization.BatchNormalization())\n",
    "    model.add(MaxPooling2D(pool_size=(2,2)))\n",
    "    model.add(Dropout(0.3))\n",
    "\n",
    "    model.add(Conv2D(128, (3,3), padding='same', kernel_regularizer=regularizers.l2(1e-4)))\n",
    "    model.add(normalization.BatchNormalization())\n",
    "    model.add(Conv2D(128, (3,3), padding='same', kernel_regularizer=regularizers.l2(1e-4)))\n",
    "    model.add(normalization.BatchNormalization())\n",
    "    model.add(MaxPooling2D(pool_size=(2,2)))\n",
    "    model.add(Dropout(0.4))\n",
    "                         \n",
    "    model.add(Flatten())\n",
    "    model.add(Dense(10, activation='softmax'))        \n",
    "    \n",
    "    model.summary()\n",
    "    return model"
   ]
  },
  {
   "cell_type": "code",
   "execution_count": 3,
   "metadata": {},
   "outputs": [
    {
     "name": "stdout",
     "output_type": "stream",
     "text": [
      "_________________________________________________________________\n",
      "Layer (type)                 Output Shape              Param #   \n",
      "=================================================================\n",
      "conv2d_1 (Conv2D)            (None, 32, 32, 32)        896       \n",
      "_________________________________________________________________\n",
      "batch_normalization_1 (Batch (None, 32, 32, 32)        128       \n",
      "_________________________________________________________________\n",
      "conv2d_2 (Conv2D)            (None, 32, 32, 32)        9248      \n",
      "_________________________________________________________________\n",
      "batch_normalization_2 (Batch (None, 32, 32, 32)        128       \n",
      "_________________________________________________________________\n",
      "max_pooling2d_1 (MaxPooling2 (None, 16, 16, 32)        0         \n",
      "_________________________________________________________________\n",
      "dropout_1 (Dropout)          (None, 16, 16, 32)        0         \n",
      "_________________________________________________________________\n",
      "conv2d_3 (Conv2D)            (None, 16, 16, 64)        18496     \n",
      "_________________________________________________________________\n",
      "batch_normalization_3 (Batch (None, 16, 16, 64)        256       \n",
      "_________________________________________________________________\n",
      "conv2d_4 (Conv2D)            (None, 16, 16, 64)        36928     \n",
      "_________________________________________________________________\n",
      "batch_normalization_4 (Batch (None, 16, 16, 64)        256       \n",
      "_________________________________________________________________\n",
      "max_pooling2d_2 (MaxPooling2 (None, 8, 8, 64)          0         \n",
      "_________________________________________________________________\n",
      "dropout_2 (Dropout)          (None, 8, 8, 64)          0         \n",
      "_________________________________________________________________\n",
      "conv2d_5 (Conv2D)            (None, 8, 8, 128)         73856     \n",
      "_________________________________________________________________\n",
      "batch_normalization_5 (Batch (None, 8, 8, 128)         512       \n",
      "_________________________________________________________________\n",
      "conv2d_6 (Conv2D)            (None, 8, 8, 128)         147584    \n",
      "_________________________________________________________________\n",
      "batch_normalization_6 (Batch (None, 8, 8, 128)         512       \n",
      "_________________________________________________________________\n",
      "max_pooling2d_3 (MaxPooling2 (None, 4, 4, 128)         0         \n",
      "_________________________________________________________________\n",
      "dropout_3 (Dropout)          (None, 4, 4, 128)         0         \n",
      "_________________________________________________________________\n",
      "flatten_1 (Flatten)          (None, 2048)              0         \n",
      "_________________________________________________________________\n",
      "dense_1 (Dense)              (None, 10)                20490     \n",
      "=================================================================\n",
      "Total params: 309,290\n",
      "Trainable params: 308,394\n",
      "Non-trainable params: 896\n",
      "_________________________________________________________________\n"
     ]
    }
   ],
   "source": [
    "model = CNN_()"
   ]
  },
  {
   "cell_type": "markdown",
   "metadata": {},
   "source": [
    "###  2. 定义损失函数和训练模型"
   ]
  },
  {
   "cell_type": "code",
   "execution_count": 4,
   "metadata": {},
   "outputs": [],
   "source": [
    "opt_rms = keras.optimizers.rmsprop(lr=0.001,decay=1e-6)\n",
    "model.compile(loss='categorical_crossentropy', optimizer=opt_rms, metrics=['accuracy'])"
   ]
  },
  {
   "cell_type": "markdown",
   "metadata": {},
   "source": [
    "### 3. 定义可变的学习速率"
   ]
  },
  {
   "cell_type": "code",
   "execution_count": 5,
   "metadata": {},
   "outputs": [],
   "source": [
    "def lr_schedule(epoch):\n",
    "    lrate = 0.001\n",
    "    if epoch > 75:\n",
    "        lrate = 0.0005\n",
    "    elif epoch > 100:\n",
    "        lrate = 0.0003        \n",
    "    return lrate"
   ]
  },
  {
   "cell_type": "markdown",
   "metadata": {},
   "source": [
    "### 4. 加载数据"
   ]
  },
  {
   "cell_type": "code",
   "execution_count": 6,
   "metadata": {},
   "outputs": [],
   "source": [
    "(x_train, y_train), (x_test, y_test) = cifar10.load_data()\n",
    "x_train = x_train.astype('float32')\n",
    "x_test = x_test.astype('float32')"
   ]
  },
  {
   "cell_type": "markdown",
   "metadata": {},
   "source": [
    "### 5. 标准化数据 Z-Score"
   ]
  },
  {
   "cell_type": "code",
   "execution_count": 7,
   "metadata": {},
   "outputs": [],
   "source": [
    "mean = np.mean(x_train,axis=(0,1,2,3))\n",
    "std = np.std(x_train,axis=(0,1,2,3))\n",
    "x_train = (x_train-mean)/(std+1e-7)\n",
    "x_test = (x_test-mean)/(std+1e-7)"
   ]
  },
  {
   "cell_type": "markdown",
   "metadata": {},
   "source": [
    "### 6. 对输出进行One-hot编码"
   ]
  },
  {
   "cell_type": "code",
   "execution_count": 8,
   "metadata": {},
   "outputs": [],
   "source": [
    "num_classes = 10\n",
    "y_train = np_utils.to_categorical(y_train, num_classes)\n",
    "y_test = np_utils.to_categorical(y_test, num_classes)"
   ]
  },
  {
   "cell_type": "markdown",
   "metadata": {},
   "source": [
    "### 7. 增广数据集"
   ]
  },
  {
   "cell_type": "code",
   "execution_count": 9,
   "metadata": {},
   "outputs": [],
   "source": [
    "datagen = ImageDataGenerator(\n",
    "    rotation_range=15,\n",
    "    width_shift_range=0.1,\n",
    "    height_shift_range=0.1,\n",
    "    horizontal_flip=True,\n",
    "    )\n",
    "datagen.fit(x_train)"
   ]
  },
  {
   "cell_type": "markdown",
   "metadata": {},
   "source": [
    "### 8. 训练模型并保存"
   ]
  },
  {
   "cell_type": "code",
   "execution_count": 10,
   "metadata": {},
   "outputs": [
    {
     "name": "stdout",
     "output_type": "stream",
     "text": [
      "WARNING:tensorflow:Variable *= will be deprecated. Use variable.assign_mul if you want assignment to the variable value or 'x = x * y' if you want a new python Tensor object.\n",
      "Epoch 1/125\n",
      "1563/1562 [==============================] - 1765s 1s/step - loss: 1.8914 - acc: 0.4028 - val_loss: 1.5078 - val_acc: 0.5315\n",
      "Epoch 2/125\n",
      "1563/1562 [==============================] - 1461s 935ms/step - loss: 1.4010 - acc: 0.5415 - val_loss: 1.2484 - val_acc: 0.6253\n",
      "Epoch 3/125\n",
      "1563/1562 [==============================] - 1573s 1s/step - loss: 1.2907 - acc: 0.5818 - val_loss: 1.4088 - val_acc: 0.6032\n",
      "Epoch 4/125\n",
      "1563/1562 [==============================] - 1376s 880ms/step - loss: 1.2350 - acc: 0.6051 - val_loss: 1.4834 - val_acc: 0.5915\n",
      "Epoch 5/125\n",
      "1563/1562 [==============================] - 1352s 865ms/step - loss: 1.2080 - acc: 0.6156 - val_loss: 1.2144 - val_acc: 0.6394\n",
      "Epoch 6/125\n",
      "1563/1562 [==============================] - 1357s 868ms/step - loss: 1.1850 - acc: 0.6252 - val_loss: 1.2040 - val_acc: 0.6556\n",
      "Epoch 7/125\n",
      "1563/1562 [==============================] - 1359s 870ms/step - loss: 1.1709 - acc: 0.6305 - val_loss: 1.1757 - val_acc: 0.6589\n",
      "Epoch 8/125\n",
      "1563/1562 [==============================] - 1356s 868ms/step - loss: 1.1526 - acc: 0.6422 - val_loss: 1.0742 - val_acc: 0.6868\n",
      "Epoch 9/125\n",
      "1563/1562 [==============================] - 1375s 880ms/step - loss: 1.1369 - acc: 0.6437 - val_loss: 1.1376 - val_acc: 0.6740\n",
      "Epoch 10/125\n",
      "1563/1562 [==============================] - 1340s 857ms/step - loss: 1.1292 - acc: 0.6496 - val_loss: 1.1357 - val_acc: 0.6685\n",
      "Epoch 11/125\n",
      "1563/1562 [==============================] - 1334s 853ms/step - loss: 1.1164 - acc: 0.6521 - val_loss: 1.1633 - val_acc: 0.6759\n",
      "Epoch 12/125\n",
      "1563/1562 [==============================] - 1304s 835ms/step - loss: 1.1015 - acc: 0.6582 - val_loss: 1.0859 - val_acc: 0.6833\n",
      "Epoch 13/125\n",
      "1563/1562 [==============================] - 1294s 828ms/step - loss: 1.1046 - acc: 0.6575 - val_loss: 1.1197 - val_acc: 0.6780\n",
      "Epoch 14/125\n",
      "1563/1562 [==============================] - 1289s 825ms/step - loss: 1.0968 - acc: 0.6611 - val_loss: 1.0991 - val_acc: 0.6844\n",
      "Epoch 15/125\n",
      "1563/1562 [==============================] - 1287s 823ms/step - loss: 1.0875 - acc: 0.6642 - val_loss: 0.9926 - val_acc: 0.7133\n",
      "Epoch 16/125\n",
      "1563/1562 [==============================] - 1284s 822ms/step - loss: 1.0803 - acc: 0.6668 - val_loss: 1.1047 - val_acc: 0.6849\n",
      "Epoch 17/125\n",
      "1563/1562 [==============================] - 1285s 822ms/step - loss: 1.0735 - acc: 0.6670 - val_loss: 1.0389 - val_acc: 0.7007\n",
      "Epoch 18/125\n",
      "1563/1562 [==============================] - 1287s 823ms/step - loss: 1.0679 - acc: 0.6724 - val_loss: 1.1239 - val_acc: 0.6826\n",
      "Epoch 19/125\n",
      "1563/1562 [==============================] - 1292s 827ms/step - loss: 1.0589 - acc: 0.6730 - val_loss: 1.1274 - val_acc: 0.6796\n",
      "Epoch 20/125\n",
      "1563/1562 [==============================] - 1281s 820ms/step - loss: 1.0601 - acc: 0.6740 - val_loss: 1.0614 - val_acc: 0.7040\n",
      "Epoch 21/125\n",
      "1563/1562 [==============================] - 699s 447ms/step - loss: 1.0561 - acc: 0.6747 - val_loss: 1.1100 - val_acc: 0.6926\n",
      "Epoch 22/125\n",
      "1563/1562 [==============================] - 773s 494ms/step - loss: 1.0467 - acc: 0.6759 - val_loss: 1.0904 - val_acc: 0.6987\n",
      "Epoch 23/125\n",
      "1563/1562 [==============================] - 1273s 814ms/step - loss: 1.0412 - acc: 0.6793 - val_loss: 1.1147 - val_acc: 0.6966\n",
      "Epoch 24/125\n",
      "1563/1562 [==============================] - 1276s 816ms/step - loss: 1.0432 - acc: 0.6777 - val_loss: 1.2099 - val_acc: 0.6728\n",
      "Epoch 25/125\n",
      "1563/1562 [==============================] - 1274s 815ms/step - loss: 1.0407 - acc: 0.6783 - val_loss: 0.9972 - val_acc: 0.7150\n",
      "Epoch 26/125\n",
      "1563/1562 [==============================] - 1274s 815ms/step - loss: 1.0339 - acc: 0.6810 - val_loss: 1.0254 - val_acc: 0.7083\n",
      "Epoch 27/125\n",
      "1563/1562 [==============================] - 1271s 813ms/step - loss: 1.0261 - acc: 0.6866 - val_loss: 0.9789 - val_acc: 0.7214\n",
      "Epoch 28/125\n",
      "1563/1562 [==============================] - 1273s 814ms/step - loss: 1.0217 - acc: 0.6862 - val_loss: 1.0599 - val_acc: 0.7008\n",
      "Epoch 29/125\n",
      "1563/1562 [==============================] - 1274s 815ms/step - loss: 1.0250 - acc: 0.6850 - val_loss: 0.9608 - val_acc: 0.7235\n",
      "Epoch 30/125\n",
      "1563/1562 [==============================] - 1272s 814ms/step - loss: 1.0169 - acc: 0.6877 - val_loss: 0.9912 - val_acc: 0.7185\n",
      "Epoch 31/125\n",
      "1563/1562 [==============================] - 1276s 817ms/step - loss: 1.0145 - acc: 0.6871 - val_loss: 1.0165 - val_acc: 0.7123\n",
      "Epoch 32/125\n",
      "1563/1562 [==============================] - 1275s 816ms/step - loss: 1.0104 - acc: 0.6892 - val_loss: 0.9281 - val_acc: 0.7319\n",
      "Epoch 33/125\n",
      "1563/1562 [==============================] - 1273s 815ms/step - loss: 1.0106 - acc: 0.6884 - val_loss: 1.0742 - val_acc: 0.7068\n",
      "Epoch 34/125\n",
      "1563/1562 [==============================] - 1273s 814ms/step - loss: 1.0066 - acc: 0.6924 - val_loss: 0.9589 - val_acc: 0.7247\n",
      "Epoch 35/125\n",
      "1563/1562 [==============================] - 1272s 814ms/step - loss: 1.0033 - acc: 0.6925 - val_loss: 1.0185 - val_acc: 0.7129\n",
      "Epoch 36/125\n",
      "1563/1562 [==============================] - 1271s 813ms/step - loss: 1.0017 - acc: 0.6921 - val_loss: 0.9826 - val_acc: 0.7219\n",
      "Epoch 37/125\n",
      "1563/1562 [==============================] - 748s 479ms/step - loss: 0.9965 - acc: 0.6935 - val_loss: 0.8765 - val_acc: 0.7475\n",
      "Epoch 38/125\n",
      "1563/1562 [==============================] - 697s 446ms/step - loss: 0.9960 - acc: 0.6944 - val_loss: 0.9155 - val_acc: 0.7307\n",
      "Epoch 39/125\n",
      "1563/1562 [==============================] - 697s 446ms/step - loss: 0.9946 - acc: 0.6925 - val_loss: 0.9111 - val_acc: 0.7418\n",
      "Epoch 40/125\n",
      "1563/1562 [==============================] - 697s 446ms/step - loss: 0.9911 - acc: 0.6953 - val_loss: 0.9922 - val_acc: 0.7152\n",
      "Epoch 41/125\n",
      "1563/1562 [==============================] - 697s 446ms/step - loss: 0.9918 - acc: 0.6925 - val_loss: 1.0838 - val_acc: 0.7003\n",
      "Epoch 42/125\n",
      "1563/1562 [==============================] - 698s 447ms/step - loss: 0.9898 - acc: 0.6982 - val_loss: 0.9423 - val_acc: 0.7311\n",
      "Epoch 43/125\n",
      "1563/1562 [==============================] - 697s 446ms/step - loss: 0.9856 - acc: 0.7003 - val_loss: 1.0106 - val_acc: 0.7154\n",
      "Epoch 44/125\n",
      "1563/1562 [==============================] - 697s 446ms/step - loss: 0.9884 - acc: 0.6946 - val_loss: 1.0947 - val_acc: 0.6967\n",
      "Epoch 45/125\n",
      "1563/1562 [==============================] - 697s 446ms/step - loss: 0.9868 - acc: 0.6937 - val_loss: 1.0529 - val_acc: 0.7067\n",
      "Epoch 46/125\n",
      "1563/1562 [==============================] - 698s 446ms/step - loss: 0.9775 - acc: 0.6982 - val_loss: 0.9333 - val_acc: 0.7326\n",
      "Epoch 47/125\n",
      "1563/1562 [==============================] - 698s 447ms/step - loss: 0.9821 - acc: 0.6975 - val_loss: 0.9029 - val_acc: 0.7433\n",
      "Epoch 48/125\n",
      "1563/1562 [==============================] - 698s 446ms/step - loss: 0.9793 - acc: 0.6985 - val_loss: 1.0417 - val_acc: 0.7148\n",
      "Epoch 49/125\n",
      "1563/1562 [==============================] - 697s 446ms/step - loss: 0.9801 - acc: 0.6979 - val_loss: 0.9746 - val_acc: 0.7231\n",
      "Epoch 50/125\n",
      "1563/1562 [==============================] - 697s 446ms/step - loss: 0.9788 - acc: 0.6993 - val_loss: 0.9444 - val_acc: 0.7330\n",
      "Epoch 51/125\n",
      "1563/1562 [==============================] - 697s 446ms/step - loss: 0.9722 - acc: 0.7016 - val_loss: 1.0287 - val_acc: 0.7037\n",
      "Epoch 52/125\n",
      "1563/1562 [==============================] - 697s 446ms/step - loss: 0.9691 - acc: 0.7027 - val_loss: 1.0119 - val_acc: 0.7145\n",
      "Epoch 53/125\n",
      "1563/1562 [==============================] - 700s 448ms/step - loss: 0.9723 - acc: 0.7025 - val_loss: 0.8844 - val_acc: 0.7481\n",
      "Epoch 54/125\n",
      "1563/1562 [==============================] - 698s 446ms/step - loss: 0.9680 - acc: 0.7024 - val_loss: 1.0505 - val_acc: 0.7068\n",
      "Epoch 55/125\n",
      "1563/1562 [==============================] - 698s 447ms/step - loss: 0.9687 - acc: 0.7021 - val_loss: 0.9365 - val_acc: 0.7308\n",
      "Epoch 56/125\n",
      "1563/1562 [==============================] - 697s 446ms/step - loss: 0.9711 - acc: 0.7011 - val_loss: 0.9976 - val_acc: 0.7164\n",
      "Epoch 57/125\n",
      "1563/1562 [==============================] - 697s 446ms/step - loss: 0.9670 - acc: 0.7022 - val_loss: 0.9921 - val_acc: 0.7142\n",
      "Epoch 58/125\n"
     ]
    },
    {
     "name": "stdout",
     "output_type": "stream",
     "text": [
      "1563/1562 [==============================] - 698s 447ms/step - loss: 0.9605 - acc: 0.7047 - val_loss: 0.9071 - val_acc: 0.7430\n",
      "Epoch 59/125\n",
      "1563/1562 [==============================] - 698s 446ms/step - loss: 0.9592 - acc: 0.7056 - val_loss: 0.9838 - val_acc: 0.7264\n",
      "Epoch 60/125\n",
      "1563/1562 [==============================] - 697s 446ms/step - loss: 0.9596 - acc: 0.7041 - val_loss: 0.9304 - val_acc: 0.7346\n",
      "Epoch 61/125\n",
      "1563/1562 [==============================] - 698s 446ms/step - loss: 0.9613 - acc: 0.7069 - val_loss: 0.9204 - val_acc: 0.7352\n",
      "Epoch 62/125\n",
      "1563/1562 [==============================] - 697s 446ms/step - loss: 0.9581 - acc: 0.7051 - val_loss: 0.9345 - val_acc: 0.7328\n",
      "Epoch 63/125\n",
      "1563/1562 [==============================] - 698s 447ms/step - loss: 0.9628 - acc: 0.7061 - val_loss: 0.9389 - val_acc: 0.7299\n",
      "Epoch 64/125\n",
      "1563/1562 [==============================] - 698s 446ms/step - loss: 0.9625 - acc: 0.7029 - val_loss: 1.0181 - val_acc: 0.7152\n",
      "Epoch 65/125\n",
      "1563/1562 [==============================] - 697s 446ms/step - loss: 0.9582 - acc: 0.7049 - val_loss: 0.9829 - val_acc: 0.7247\n",
      "Epoch 66/125\n",
      "1563/1562 [==============================] - 698s 446ms/step - loss: 0.9577 - acc: 0.7075 - val_loss: 0.9095 - val_acc: 0.7490\n",
      "Epoch 67/125\n",
      "1563/1562 [==============================] - 697s 446ms/step - loss: 0.9599 - acc: 0.7045 - val_loss: 0.9450 - val_acc: 0.7368\n",
      "Epoch 68/125\n",
      "1563/1562 [==============================] - 698s 447ms/step - loss: 0.9564 - acc: 0.7073 - val_loss: 0.9050 - val_acc: 0.7420\n",
      "Epoch 69/125\n",
      "1563/1562 [==============================] - 698s 446ms/step - loss: 0.9549 - acc: 0.7074 - val_loss: 0.9717 - val_acc: 0.7215\n",
      "Epoch 70/125\n",
      "1563/1562 [==============================] - 697s 446ms/step - loss: 0.9590 - acc: 0.7060 - val_loss: 0.9729 - val_acc: 0.7222\n",
      "Epoch 71/125\n",
      "1563/1562 [==============================] - 698s 446ms/step - loss: 0.9557 - acc: 0.7046 - val_loss: 1.0867 - val_acc: 0.6955\n",
      "Epoch 72/125\n",
      "1563/1562 [==============================] - 697s 446ms/step - loss: 0.9531 - acc: 0.7098 - val_loss: 0.9711 - val_acc: 0.7246\n",
      "Epoch 73/125\n",
      "1563/1562 [==============================] - 698s 447ms/step - loss: 0.9483 - acc: 0.7092 - val_loss: 1.0756 - val_acc: 0.7131\n",
      "Epoch 74/125\n",
      "1563/1562 [==============================] - 699s 447ms/step - loss: 0.9510 - acc: 0.7093 - val_loss: 1.0322 - val_acc: 0.7055\n",
      "Epoch 75/125\n",
      "1563/1562 [==============================] - 697s 446ms/step - loss: 0.9567 - acc: 0.7025 - val_loss: 0.8735 - val_acc: 0.7475\n",
      "Epoch 76/125\n",
      "1563/1562 [==============================] - 698s 447ms/step - loss: 0.9513 - acc: 0.7079 - val_loss: 0.9678 - val_acc: 0.7240\n",
      "Epoch 77/125\n",
      "1563/1562 [==============================] - 697s 446ms/step - loss: 0.9120 - acc: 0.7205 - val_loss: 0.9304 - val_acc: 0.7384\n",
      "Epoch 78/125\n",
      "1563/1562 [==============================] - 699s 447ms/step - loss: 0.8950 - acc: 0.7263 - val_loss: 0.8317 - val_acc: 0.7611\n",
      "Epoch 79/125\n",
      "1563/1562 [==============================] - 698s 447ms/step - loss: 0.8921 - acc: 0.7271 - val_loss: 0.9484 - val_acc: 0.7372\n",
      "Epoch 80/125\n",
      "1563/1562 [==============================] - 698s 446ms/step - loss: 0.8827 - acc: 0.7294 - val_loss: 0.8959 - val_acc: 0.7468\n",
      "Epoch 81/125\n",
      "1563/1562 [==============================] - 698s 447ms/step - loss: 0.8835 - acc: 0.7272 - val_loss: 0.9436 - val_acc: 0.7310\n",
      "Epoch 82/125\n",
      "1563/1562 [==============================] - 698s 447ms/step - loss: 0.8795 - acc: 0.7317 - val_loss: 0.8985 - val_acc: 0.7450\n",
      "Epoch 83/125\n",
      "1563/1562 [==============================] - 699s 447ms/step - loss: 0.8803 - acc: 0.7256 - val_loss: 0.9070 - val_acc: 0.7452\n",
      "Epoch 84/125\n",
      "1563/1562 [==============================] - 700s 448ms/step - loss: 0.8725 - acc: 0.7310 - val_loss: 0.8773 - val_acc: 0.7468\n",
      "Epoch 85/125\n",
      "1563/1562 [==============================] - 698s 446ms/step - loss: 0.8733 - acc: 0.7300 - val_loss: 0.8614 - val_acc: 0.7554\n",
      "Epoch 86/125\n",
      "1563/1562 [==============================] - 697s 446ms/step - loss: 0.8687 - acc: 0.7326 - val_loss: 0.8332 - val_acc: 0.7561\n",
      "Epoch 87/125\n",
      "1563/1562 [==============================] - 698s 446ms/step - loss: 0.8706 - acc: 0.7317 - val_loss: 0.7944 - val_acc: 0.7710\n",
      "Epoch 88/125\n",
      "1563/1562 [==============================] - 698s 447ms/step - loss: 0.8723 - acc: 0.7322 - val_loss: 0.9205 - val_acc: 0.7411\n",
      "Epoch 89/125\n",
      "1563/1562 [==============================] - 699s 447ms/step - loss: 0.8728 - acc: 0.7267 - val_loss: 0.8238 - val_acc: 0.7638\n",
      "Epoch 90/125\n",
      "1563/1562 [==============================] - 697s 446ms/step - loss: 0.8647 - acc: 0.7309 - val_loss: 0.8832 - val_acc: 0.7482\n",
      "Epoch 91/125\n",
      "1563/1562 [==============================] - 698s 446ms/step - loss: 0.8631 - acc: 0.7326 - val_loss: 0.9159 - val_acc: 0.7394\n",
      "Epoch 92/125\n",
      "1563/1562 [==============================] - 698s 447ms/step - loss: 0.8641 - acc: 0.7321 - val_loss: 0.8176 - val_acc: 0.7586\n",
      "Epoch 93/125\n",
      "1563/1562 [==============================] - 697s 446ms/step - loss: 0.8618 - acc: 0.7315 - val_loss: 0.8084 - val_acc: 0.7678\n",
      "Epoch 94/125\n",
      "1563/1562 [==============================] - 698s 446ms/step - loss: 0.8654 - acc: 0.7298 - val_loss: 0.7883 - val_acc: 0.7702\n",
      "Epoch 95/125\n",
      "1563/1562 [==============================] - 698s 447ms/step - loss: 0.8642 - acc: 0.7329 - val_loss: 0.7933 - val_acc: 0.7716\n",
      "Epoch 96/125\n",
      "1563/1562 [==============================] - 697s 446ms/step - loss: 0.8599 - acc: 0.7327 - val_loss: 0.9329 - val_acc: 0.7294\n",
      "Epoch 97/125\n",
      "1563/1562 [==============================] - 698s 447ms/step - loss: 0.8559 - acc: 0.7333 - val_loss: 0.8758 - val_acc: 0.7537\n",
      "Epoch 98/125\n",
      "1563/1562 [==============================] - 697s 446ms/step - loss: 0.8623 - acc: 0.7293 - val_loss: 0.8831 - val_acc: 0.7453\n",
      "Epoch 99/125\n",
      "1563/1562 [==============================] - 698s 447ms/step - loss: 0.8616 - acc: 0.7318 - val_loss: 0.8386 - val_acc: 0.7590\n",
      "Epoch 100/125\n",
      "1563/1562 [==============================] - 698s 447ms/step - loss: 0.8568 - acc: 0.7324 - val_loss: 0.7719 - val_acc: 0.7743\n",
      "Epoch 101/125\n",
      "1563/1562 [==============================] - 697s 446ms/step - loss: 0.8578 - acc: 0.7331 - val_loss: 0.9087 - val_acc: 0.7439\n",
      "Epoch 102/125\n",
      "1563/1562 [==============================] - 698s 446ms/step - loss: 0.8581 - acc: 0.7337 - val_loss: 0.8107 - val_acc: 0.7671\n",
      "Epoch 103/125\n",
      "1563/1562 [==============================] - 697s 446ms/step - loss: 0.8498 - acc: 0.7333 - val_loss: 0.8530 - val_acc: 0.7572\n",
      "Epoch 104/125\n",
      "1563/1562 [==============================] - 698s 447ms/step - loss: 0.8567 - acc: 0.7324 - val_loss: 0.9470 - val_acc: 0.7247\n",
      "Epoch 105/125\n",
      "1563/1562 [==============================] - 698s 447ms/step - loss: 0.8505 - acc: 0.7346 - val_loss: 0.7682 - val_acc: 0.7750\n",
      "Epoch 106/125\n",
      "1563/1562 [==============================] - 698s 446ms/step - loss: 0.8542 - acc: 0.7332 - val_loss: 0.8255 - val_acc: 0.7604\n",
      "Epoch 107/125\n",
      "1563/1562 [==============================] - 698s 447ms/step - loss: 0.8499 - acc: 0.7358 - val_loss: 0.8533 - val_acc: 0.7510\n",
      "Epoch 108/125\n",
      "1563/1562 [==============================] - 697s 446ms/step - loss: 0.8503 - acc: 0.7349 - val_loss: 0.7965 - val_acc: 0.7659\n",
      "Epoch 109/125\n",
      "1563/1562 [==============================] - 698s 447ms/step - loss: 0.8531 - acc: 0.7335 - val_loss: 0.8989 - val_acc: 0.7445\n",
      "Epoch 110/125\n",
      "1563/1562 [==============================] - 698s 446ms/step - loss: 0.8481 - acc: 0.7348 - val_loss: 0.9052 - val_acc: 0.7445\n",
      "Epoch 111/125\n",
      "1563/1562 [==============================] - 698s 446ms/step - loss: 0.8548 - acc: 0.7307 - val_loss: 0.8738 - val_acc: 0.7490\n",
      "Epoch 112/125\n",
      "1563/1562 [==============================] - 697s 446ms/step - loss: 0.8546 - acc: 0.7336 - val_loss: 0.8288 - val_acc: 0.7593\n",
      "Epoch 113/125\n",
      "1563/1562 [==============================] - 698s 446ms/step - loss: 0.8528 - acc: 0.7324 - val_loss: 0.7587 - val_acc: 0.7759\n",
      "Epoch 114/125\n",
      "1563/1562 [==============================] - 698s 447ms/step - loss: 0.8548 - acc: 0.7321 - val_loss: 0.8467 - val_acc: 0.7570\n",
      "Epoch 115/125\n",
      "1563/1562 [==============================] - 697s 446ms/step - loss: 0.8503 - acc: 0.7322 - val_loss: 0.7715 - val_acc: 0.7756\n",
      "Epoch 116/125\n"
     ]
    },
    {
     "name": "stdout",
     "output_type": "stream",
     "text": [
      "1563/1562 [==============================] - 698s 446ms/step - loss: 0.8484 - acc: 0.7337 - val_loss: 0.8390 - val_acc: 0.7606\n",
      "Epoch 117/125\n",
      "1563/1562 [==============================] - 700s 448ms/step - loss: 0.8486 - acc: 0.7334 - val_loss: 0.8797 - val_acc: 0.7483\n",
      "Epoch 118/125\n",
      "1563/1562 [==============================] - 697s 446ms/step - loss: 0.8492 - acc: 0.7339 - val_loss: 0.8448 - val_acc: 0.7574\n",
      "Epoch 119/125\n",
      "1563/1562 [==============================] - 697s 446ms/step - loss: 0.8512 - acc: 0.7335 - val_loss: 0.7901 - val_acc: 0.7682\n",
      "Epoch 120/125\n",
      "1563/1562 [==============================] - 698s 447ms/step - loss: 0.8482 - acc: 0.7356 - val_loss: 0.8555 - val_acc: 0.7509\n",
      "Epoch 121/125\n",
      "1563/1562 [==============================] - 697s 446ms/step - loss: 0.8472 - acc: 0.7345 - val_loss: 0.8322 - val_acc: 0.7593\n",
      "Epoch 122/125\n",
      "1563/1562 [==============================] - 697s 446ms/step - loss: 0.8457 - acc: 0.7358 - val_loss: 0.8458 - val_acc: 0.7579\n",
      "Epoch 123/125\n",
      "1563/1562 [==============================] - 697s 446ms/step - loss: 0.8499 - acc: 0.7347 - val_loss: 0.8018 - val_acc: 0.7610\n",
      "Epoch 124/125\n",
      "1563/1562 [==============================] - 698s 447ms/step - loss: 0.8450 - acc: 0.7350 - val_loss: 0.8375 - val_acc: 0.7575\n",
      "Epoch 125/125\n",
      "1563/1562 [==============================] - 698s 447ms/step - loss: 0.8479 - acc: 0.7335 - val_loss: 0.8438 - val_acc: 0.7569\n",
      "10000/10000 [==============================] - 47s 5ms/step\n",
      "\n",
      " Test result: 75.690% loss: 0.844\n"
     ]
    }
   ],
   "source": [
    "checkpoint = ModelCheckpoint('E:\\\\school\\\\2-2\\\\ac_eng\\\\cifar\\\\model\\\\augmented_model.h5',  monitor='val_loss', verbose=0, save_best_only= True, mode='auto') \n",
    "\n",
    "model_details = model.fit_generator(datagen.flow(x_train, y_train, batch_size=32),\n",
    "                    steps_per_epoch=x_train.shape[0]/32, epochs=125,\n",
    "                    verbose=1,validation_data=(x_test,y_test),callbacks=[checkpoint, LearningRateScheduler(lr_schedule)])\n",
    "\n",
    "scores = model.evaluate(x_test, y_test, batch_size=32, verbose=1)\n",
    "print('\\n Test result: %.3f%% loss: %.3f' % (scores[1]*100, scores[0]))"
   ]
  },
  {
   "cell_type": "markdown",
   "metadata": {},
   "source": [
    "### 9. 准确率/误差曲线"
   ]
  },
  {
   "cell_type": "code",
   "execution_count": 46,
   "metadata": {},
   "outputs": [],
   "source": [
    "import matplotlib.pyplot as plt\n",
    "\n",
    "def plot_model_details(model_details):\n",
    "    plt.figure(figsize=(15, 5))\n",
    "     # plot model accuracy\n",
    "    plt.subplot(1, 2, 1)\n",
    "    plt.title('Model Accuracy')\n",
    "    plt.ylabel('Accuracy')\n",
    "    plt.xlabel('Epoch')\n",
    "    plt.plot(range(1, len(model_details.history['acc'])+1), model_details.history['acc'])\n",
    "    plt.plot(range(1, len(model_details.history['val_acc'])+1), model_details.history['val_acc'])\n",
    "    plt.xticks(np.arange(1, len(model_details.history['acc'])+len(model_details.history['acc'])/10, len(model_details.history['acc'])/10))\n",
    "    plt.legend(['train', 'validation'], loc='best')\n",
    "    \n",
    "    # plot model loss\n",
    "    plt.subplot(1, 2, 2)\n",
    "    plt.title('Model Loss')\n",
    "    plt.ylabel('Loss')\n",
    "    plt.xlabel('Epoch')\n",
    "    plt.plot(range(1, len(model_details.history['loss'])+1), model_details.history['loss'])\n",
    "    plt.plot(range(1, len(model_details.history['val_loss'])+1), model_details.history['val_loss'])\n",
    "    plt.xticks(np.arange(1, len(model_details.history['loss'])+len(model_details.history['loss'])/10, len(model_details.history['loss'])/10))\n",
    "    plt.legend(['train', 'validation'], loc='best')"
   ]
  },
  {
   "cell_type": "code",
   "execution_count": 47,
   "metadata": {},
   "outputs": [
    {
     "data": {
      "image/png": "[encoded data removed]",
      "text/plain": [
       "<matplotlib.figure.Figure at 0x1eeadff0588>"
      ]
     },
     "metadata": {},
     "output_type": "display_data"
    }
   ],
   "source": [
    "plot_model_details(model_details)"
   ]
  }
 ],
 "metadata": {
  "kernelspec": {
   "display_name": "Python 3",
   "language": "python",
   "name": "python3"
  },
  "language_info": {
   "codemirror_mode": {
    "name": "ipython",
    "version": 3
   },
   "file_extension": ".py",
   "mimetype": "text/x-python",
   "name": "python",
   "nbconvert_exporter": "python",
   "pygments_lexer": "ipython3",
   "version": "3.6.4"
  }
 },
 "nbformat": 4,
 "nbformat_minor": 2
}
