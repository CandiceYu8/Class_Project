{
 "cells": [
  {
   "cell_type": "markdown",
   "metadata": {},
   "source": [
    "### Keras 模型建立"
   ]
  },
  {
   "cell_type": "code",
   "execution_count": 1,
   "metadata": {},
   "outputs": [
    {
     "name": "stderr",
     "output_type": "stream",
     "text": [
      "Using TensorFlow backend.\n"
     ]
    }
   ],
   "source": [
    "import numpy as np\n",
    "import keras\n",
    "from keras.models import Sequential\n",
    "from keras.utils import np_utils\n",
    "from keras.preprocessing.image import ImageDataGenerator\n",
    "from keras.layers import Dense, Activation, Flatten, Dropout, normalization\n",
    "from keras.layers import Conv2D, MaxPooling2D\n",
    "from keras.datasets import cifar10\n",
    "from keras import regularizers\n",
    "from keras.callbacks import LearningRateScheduler, ModelCheckpoint, EarlyStopping\n",
    "from keras.optimizers import Adam\n",
    "from keras.utils import to_categorical"
   ]
  },
  {
   "cell_type": "markdown",
   "metadata": {},
   "source": [
    "###  1. 模型构建"
   ]
  },
  {
   "cell_type": "code",
   "execution_count": 2,
   "metadata": {},
   "outputs": [],
   "source": [
    "def CNN_():\n",
    "    model = Sequential()\n",
    "\n",
    "    model.add(Conv2D(32, (3,3), padding='same', activation='relu', input_shape=(32, 32, 3)))\n",
    "    model.add(normalization.BatchNormalization())\n",
    "    model.add(Conv2D(32, (3,3), padding='same', activation='relu'))\n",
    "    model.add(normalization.BatchNormalization())\n",
    "    model.add(MaxPooling2D(pool_size=(2,2)))\n",
    "    model.add(Dropout(0.3))\n",
    "                         \n",
    "    model.add(Conv2D(64, (3,3), padding='same', activation='relu'))\n",
    "    model.add(normalization.BatchNormalization())\n",
    "    model.add(Conv2D(64, (3,3), padding='same', activation='relu'))\n",
    "    model.add(normalization.BatchNormalization())\n",
    "    model.add(MaxPooling2D(pool_size=(2,2)))\n",
    "    model.add(Dropout(0.4))\n",
    "\n",
    "    model.add(Conv2D(128, (3,3), padding='same', activation='relu'))\n",
    "    model.add(normalization.BatchNormalization())\n",
    "    model.add(Conv2D(128, (3,3), padding='same', activation='relu'))\n",
    "    model.add(normalization.BatchNormalization())\n",
    "    model.add(MaxPooling2D(pool_size=(2,2)))\n",
    "    model.add(Dropout(0.5))\n",
    "                         \n",
    "    model.add(Flatten())\n",
    "    model.add(Dense(10, activation='softmax'))        \n",
    "    \n",
    "    model.summary()\n",
    "    return model"
   ]
  },
  {
   "cell_type": "code",
   "execution_count": 3,
   "metadata": {},
   "outputs": [
    {
     "name": "stdout",
     "output_type": "stream",
     "text": [
      "_________________________________________________________________\n",
      "Layer (type)                 Output Shape              Param #   \n",
      "=================================================================\n",
      "conv2d_1 (Conv2D)            (None, 32, 32, 32)        896       \n",
      "_________________________________________________________________\n",
      "batch_normalization_1 (Batch (None, 32, 32, 32)        128       \n",
      "_________________________________________________________________\n",
      "conv2d_2 (Conv2D)            (None, 32, 32, 32)        9248      \n",
      "_________________________________________________________________\n",
      "batch_normalization_2 (Batch (None, 32, 32, 32)        128       \n",
      "_________________________________________________________________\n",
      "max_pooling2d_1 (MaxPooling2 (None, 16, 16, 32)        0         \n",
      "_________________________________________________________________\n",
      "dropout_1 (Dropout)          (None, 16, 16, 32)        0         \n",
      "_________________________________________________________________\n",
      "conv2d_3 (Conv2D)            (None, 16, 16, 64)        18496     \n",
      "_________________________________________________________________\n",
      "batch_normalization_3 (Batch (None, 16, 16, 64)        256       \n",
      "_________________________________________________________________\n",
      "conv2d_4 (Conv2D)            (None, 16, 16, 64)        36928     \n",
      "_________________________________________________________________\n",
      "batch_normalization_4 (Batch (None, 16, 16, 64)        256       \n",
      "_________________________________________________________________\n",
      "max_pooling2d_2 (MaxPooling2 (None, 8, 8, 64)          0         \n",
      "_________________________________________________________________\n",
      "dropout_2 (Dropout)          (None, 8, 8, 64)          0         \n",
      "_________________________________________________________________\n",
      "conv2d_5 (Conv2D)            (None, 8, 8, 128)         73856     \n",
      "_________________________________________________________________\n",
      "batch_normalization_5 (Batch (None, 8, 8, 128)         512       \n",
      "_________________________________________________________________\n",
      "conv2d_6 (Conv2D)            (None, 8, 8, 128)         147584    \n",
      "_________________________________________________________________\n",
      "batch_normalization_6 (Batch (None, 8, 8, 128)         512       \n",
      "_________________________________________________________________\n",
      "max_pooling2d_3 (MaxPooling2 (None, 4, 4, 128)         0         \n",
      "_________________________________________________________________\n",
      "dropout_3 (Dropout)          (None, 4, 4, 128)         0         \n",
      "_________________________________________________________________\n",
      "flatten_1 (Flatten)          (None, 2048)              0         \n",
      "_________________________________________________________________\n",
      "dense_1 (Dense)              (None, 10)                20490     \n",
      "=================================================================\n",
      "Total params: 309,290\n",
      "Trainable params: 308,394\n",
      "Non-trainable params: 896\n",
      "_________________________________________________________________\n"
     ]
    }
   ],
   "source": [
    "model = CNN_()"
   ]
  },
  {
   "cell_type": "markdown",
   "metadata": {},
   "source": [
    "###  2. 定义损失函数和训练模型"
   ]
  },
  {
   "cell_type": "code",
   "execution_count": 4,
   "metadata": {},
   "outputs": [],
   "source": [
    "model.compile(loss='categorical_crossentropy',\n",
    "              optimizer=Adam(lr=0.0001, decay=1e-6),\n",
    "              metrics=['accuracy'])"
   ]
  },
  {
   "cell_type": "markdown",
   "metadata": {},
   "source": [
    "### 3. 定义可变的学习速率"
   ]
  },
  {
   "cell_type": "code",
   "execution_count": 5,
   "metadata": {},
   "outputs": [],
   "source": [
    "def lr_schedule(epoch):\n",
    "    lrate = 0.001\n",
    "    if epoch > 75:\n",
    "        lrate = 0.0005\n",
    "    elif epoch > 100:\n",
    "        lrate = 0.0003        \n",
    "    return lrate"
   ]
  },
  {
   "cell_type": "markdown",
   "metadata": {},
   "source": [
    "### 4. 加载数据"
   ]
  },
  {
   "cell_type": "code",
   "execution_count": 6,
   "metadata": {},
   "outputs": [],
   "source": [
    "(X_train, Y_train), (X_test, Y_test) = cifar10.load_data()"
   ]
  },
  {
   "cell_type": "markdown",
   "metadata": {},
   "source": [
    "### 5. 修改数据格式"
   ]
  },
  {
   "cell_type": "code",
   "execution_count": 7,
   "metadata": {},
   "outputs": [],
   "source": [
    "X_train = X_train / 255.0\n",
    "X_test = X_test / 255.0\n",
    "Y_train = to_categorical(Y_train)\n",
    "Y_test = to_categorical(Y_test)"
   ]
  },
  {
   "cell_type": "code",
   "execution_count": 8,
   "metadata": {},
   "outputs": [],
   "source": [
    "datagen = ImageDataGenerator(\n",
    "    rotation_range=15,\n",
    "    width_shift_range=0.1,\n",
    "    height_shift_range=0.1,\n",
    "    horizontal_flip=True,\n",
    "    )\n",
    "datagen.fit(X_train)"
   ]
  },
  {
   "cell_type": "markdown",
   "metadata": {},
   "source": [
    "### 6. 训练模型并保存"
   ]
  },
  {
   "cell_type": "code",
   "execution_count": 9,
   "metadata": {},
   "outputs": [
    {
     "name": "stdout",
     "output_type": "stream",
     "text": [
      "WARNING:tensorflow:Variable *= will be deprecated. Use variable.assign_mul if you want assignment to the variable value or 'x = x * y' if you want a new python Tensor object.\n",
      "Epoch 1/125\n",
      "1563/1563 [==============================] - 719s 460ms/step - loss: 2.1400 - acc: 0.3879 - val_loss: 1.6192 - val_acc: 0.5056\n",
      "Epoch 2/125\n",
      "1563/1563 [==============================] - 720s 461ms/step - loss: 1.7953 - acc: 0.4872 - val_loss: 4.2590 - val_acc: 0.3640\n",
      "Epoch 3/125\n",
      "1563/1563 [==============================] - 722s 462ms/step - loss: 1.7090 - acc: 0.5141 - val_loss: 1.5667 - val_acc: 0.4998\n",
      "Epoch 4/125\n",
      "1563/1563 [==============================] - 713s 456ms/step - loss: 1.3059 - acc: 0.5709 - val_loss: 1.0999 - val_acc: 0.6243\n",
      "Epoch 5/125\n",
      "1563/1563 [==============================] - 726s 465ms/step - loss: 1.0664 - acc: 0.6245 - val_loss: 0.8907 - val_acc: 0.6962\n",
      "Epoch 6/125\n",
      "1563/1563 [==============================] - 728s 466ms/step - loss: 0.9767 - acc: 0.6562 - val_loss: 0.8380 - val_acc: 0.7143\n",
      "Epoch 7/125\n",
      "1563/1563 [==============================] - 726s 465ms/step - loss: 0.9133 - acc: 0.6787 - val_loss: 0.7878 - val_acc: 0.7285\n",
      "Epoch 8/125\n",
      "1563/1563 [==============================] - 720s 461ms/step - loss: 0.8720 - acc: 0.6947 - val_loss: 0.9491 - val_acc: 0.6861\n",
      "Epoch 9/125\n",
      "1563/1563 [==============================] - 703s 450ms/step - loss: 0.8266 - acc: 0.7119 - val_loss: 0.8393 - val_acc: 0.7147\n",
      "Epoch 10/125\n",
      "1563/1563 [==============================] - 704s 451ms/step - loss: 0.7945 - acc: 0.7212 - val_loss: 0.7985 - val_acc: 0.7285\n",
      "Epoch 11/125\n",
      "1563/1563 [==============================] - 702s 449ms/step - loss: 0.7626 - acc: 0.7342 - val_loss: 0.7375 - val_acc: 0.7599\n",
      "Epoch 12/125\n",
      "1563/1563 [==============================] - 702s 449ms/step - loss: 0.7417 - acc: 0.7401 - val_loss: 0.7928 - val_acc: 0.7385\n",
      "Epoch 13/125\n",
      "1563/1563 [==============================] - 701s 449ms/step - loss: 0.7220 - acc: 0.7477 - val_loss: 0.6712 - val_acc: 0.7787\n",
      "Epoch 14/125\n",
      "1563/1563 [==============================] - 701s 449ms/step - loss: 0.7094 - acc: 0.7521 - val_loss: 0.7537 - val_acc: 0.7519\n",
      "Epoch 15/125\n",
      "1563/1563 [==============================] - 702s 449ms/step - loss: 0.6917 - acc: 0.7600 - val_loss: 0.7496 - val_acc: 0.7505\n",
      "Epoch 16/125\n",
      "1563/1563 [==============================] - 907s 581ms/step - loss: 0.6737 - acc: 0.7648 - val_loss: 0.6151 - val_acc: 0.7930\n",
      "Epoch 17/125\n",
      "1563/1563 [==============================] - 1307s 836ms/step - loss: 0.6658 - acc: 0.7683 - val_loss: 0.6895 - val_acc: 0.7737\n",
      "Epoch 18/125\n",
      "1563/1563 [==============================] - 1287s 824ms/step - loss: 0.6522 - acc: 0.7743 - val_loss: 0.5888 - val_acc: 0.8055\n",
      "Epoch 19/125\n",
      "1563/1563 [==============================] - 1284s 821ms/step - loss: 0.6392 - acc: 0.7784 - val_loss: 0.6324 - val_acc: 0.7877\n",
      "Epoch 20/125\n",
      "1563/1563 [==============================] - 1291s 826ms/step - loss: 0.6317 - acc: 0.7808 - val_loss: 0.5371 - val_acc: 0.8179\n",
      "Epoch 21/125\n",
      "1563/1563 [==============================] - 1284s 821ms/step - loss: 0.6226 - acc: 0.7830 - val_loss: 0.5484 - val_acc: 0.8165\n",
      "Epoch 22/125\n",
      "1563/1563 [==============================] - 1285s 822ms/step - loss: 0.6167 - acc: 0.7843 - val_loss: 0.6145 - val_acc: 0.7955\n",
      "Epoch 23/125\n",
      "1563/1563 [==============================] - 1286s 823ms/step - loss: 0.6054 - acc: 0.7899 - val_loss: 0.5743 - val_acc: 0.8059\n",
      "Epoch 24/125\n",
      "1563/1563 [==============================] - 1278s 818ms/step - loss: 0.5973 - acc: 0.7923 - val_loss: 0.5588 - val_acc: 0.8163\n",
      "Epoch 25/125\n",
      "1563/1563 [==============================] - 1278s 818ms/step - loss: 0.5962 - acc: 0.7925 - val_loss: 0.6408 - val_acc: 0.7980\n",
      "Epoch 26/125\n",
      "1563/1563 [==============================] - 1277s 817ms/step - loss: 0.5803 - acc: 0.7967 - val_loss: 0.6484 - val_acc: 0.7958\n",
      "Epoch 27/125\n",
      "1563/1563 [==============================] - 1270s 812ms/step - loss: 0.5798 - acc: 0.8003 - val_loss: 0.5672 - val_acc: 0.8197\n",
      "Epoch 28/125\n",
      "1563/1563 [==============================] - 1269s 812ms/step - loss: 0.5737 - acc: 0.7995 - val_loss: 0.5786 - val_acc: 0.8092\n",
      "Epoch 29/125\n",
      "1563/1563 [==============================] - 1266s 810ms/step - loss: 0.5694 - acc: 0.8021 - val_loss: 0.5132 - val_acc: 0.8279\n",
      "Epoch 30/125\n",
      "1563/1563 [==============================] - 1265s 810ms/step - loss: 0.5634 - acc: 0.8049 - val_loss: 0.5529 - val_acc: 0.8192\n",
      "Epoch 31/125\n",
      "1563/1563 [==============================] - 1267s 810ms/step - loss: 0.5522 - acc: 0.8093 - val_loss: 0.5074 - val_acc: 0.8318\n",
      "Epoch 32/125\n",
      "1563/1563 [==============================] - 1266s 810ms/step - loss: 0.5537 - acc: 0.8085 - val_loss: 0.5277 - val_acc: 0.8245\n",
      "Epoch 33/125\n",
      "1563/1563 [==============================] - 1271s 813ms/step - loss: 0.5543 - acc: 0.8076 - val_loss: 0.5208 - val_acc: 0.8267\n",
      "Epoch 34/125\n",
      "1563/1563 [==============================] - 1268s 812ms/step - loss: 0.5410 - acc: 0.8118 - val_loss: 0.4727 - val_acc: 0.8438\n",
      "Epoch 35/125\n",
      "1563/1563 [==============================] - 1272s 814ms/step - loss: 0.5422 - acc: 0.8116 - val_loss: 0.5111 - val_acc: 0.8283\n",
      "Epoch 36/125\n",
      "1563/1563 [==============================] - 1266s 810ms/step - loss: 0.5350 - acc: 0.8132 - val_loss: 0.5990 - val_acc: 0.8063\n",
      "Epoch 37/125\n",
      "1563/1563 [==============================] - 1268s 811ms/step - loss: 0.5301 - acc: 0.8154 - val_loss: 0.4818 - val_acc: 0.8405\n",
      "Epoch 38/125\n",
      "1563/1563 [==============================] - 1266s 810ms/step - loss: 0.5259 - acc: 0.8177 - val_loss: 0.4760 - val_acc: 0.8445\n",
      "Epoch 39/125\n",
      "1563/1563 [==============================] - 1269s 812ms/step - loss: 0.5235 - acc: 0.8179 - val_loss: 0.4977 - val_acc: 0.8358\n",
      "Epoch 40/125\n",
      "1563/1563 [==============================] - 1267s 811ms/step - loss: 0.5221 - acc: 0.8194 - val_loss: 0.4847 - val_acc: 0.8387\n",
      "Epoch 41/125\n",
      "1563/1563 [==============================] - 1269s 812ms/step - loss: 0.5164 - acc: 0.8219 - val_loss: 0.5076 - val_acc: 0.8360\n",
      "Epoch 42/125\n",
      "1563/1563 [==============================] - 1267s 811ms/step - loss: 0.5149 - acc: 0.8224 - val_loss: 0.5233 - val_acc: 0.8318\n",
      "Epoch 43/125\n",
      "1563/1563 [==============================] - 1266s 810ms/step - loss: 0.5150 - acc: 0.8197 - val_loss: 0.4878 - val_acc: 0.8431\n",
      "Epoch 44/125\n",
      "1563/1563 [==============================] - 1271s 813ms/step - loss: 0.5077 - acc: 0.8246 - val_loss: 0.4520 - val_acc: 0.8500\n",
      "Epoch 45/125\n",
      "1563/1563 [==============================] - 1265s 810ms/step - loss: 0.5059 - acc: 0.8254 - val_loss: 0.4326 - val_acc: 0.8543\n",
      "Epoch 46/125\n",
      "1563/1563 [==============================] - 1271s 813ms/step - loss: 0.5082 - acc: 0.8231 - val_loss: 0.5008 - val_acc: 0.8401\n",
      "Epoch 47/125\n",
      "1563/1563 [==============================] - 1266s 810ms/step - loss: 0.5024 - acc: 0.8235 - val_loss: 0.4930 - val_acc: 0.8400\n",
      "Epoch 48/125\n",
      "1563/1563 [==============================] - 1268s 811ms/step - loss: 0.4962 - acc: 0.8273 - val_loss: 0.5176 - val_acc: 0.8256\n",
      "Epoch 49/125\n",
      "1563/1563 [==============================] - 1270s 813ms/step - loss: 0.4949 - acc: 0.8294 - val_loss: 0.4718 - val_acc: 0.8446\n",
      "Epoch 50/125\n",
      "1563/1563 [==============================] - 1269s 812ms/step - loss: 0.4988 - acc: 0.8258 - val_loss: 0.4619 - val_acc: 0.8487\n",
      "Epoch 51/125\n",
      "1563/1563 [==============================] - 1265s 810ms/step - loss: 0.4904 - acc: 0.8299 - val_loss: 0.4967 - val_acc: 0.8372\n",
      "Epoch 52/125\n",
      "1563/1563 [==============================] - 1267s 811ms/step - loss: 0.4854 - acc: 0.8319 - val_loss: 0.4811 - val_acc: 0.8424\n",
      "Epoch 53/125\n",
      "1563/1563 [==============================] - 1268s 811ms/step - loss: 0.4863 - acc: 0.8309 - val_loss: 0.5192 - val_acc: 0.8317\n",
      "Epoch 54/125\n",
      "1563/1563 [==============================] - 1267s 811ms/step - loss: 0.4861 - acc: 0.8318 - val_loss: 0.4914 - val_acc: 0.8444\n",
      "Epoch 55/125\n",
      "1563/1563 [==============================] - 1268s 811ms/step - loss: 0.4778 - acc: 0.8353 - val_loss: 0.5053 - val_acc: 0.8404\n",
      "Epoch 56/125\n",
      "1563/1563 [==============================] - 1268s 811ms/step - loss: 0.4801 - acc: 0.8346 - val_loss: 0.4642 - val_acc: 0.8514\n",
      "Epoch 57/125\n",
      "1563/1563 [==============================] - 1277s 817ms/step - loss: 0.4780 - acc: 0.8376 - val_loss: 0.4705 - val_acc: 0.8454\n",
      "Epoch 58/125\n"
     ]
    },
    {
     "name": "stdout",
     "output_type": "stream",
     "text": [
      "1563/1563 [==============================] - 1274s 815ms/step - loss: 0.4729 - acc: 0.8334 - val_loss: 0.4815 - val_acc: 0.8451\n",
      "Epoch 59/125\n",
      "1563/1563 [==============================] - 1279s 819ms/step - loss: 0.4739 - acc: 0.8359 - val_loss: 0.4539 - val_acc: 0.8520\n",
      "Epoch 60/125\n",
      "1563/1563 [==============================] - 1280s 819ms/step - loss: 0.4744 - acc: 0.8339 - val_loss: 0.6202 - val_acc: 0.8116\n",
      "Epoch 61/125\n",
      "1563/1563 [==============================] - 1274s 815ms/step - loss: 0.4690 - acc: 0.8369 - val_loss: 0.4969 - val_acc: 0.8428\n",
      "Epoch 62/125\n",
      "1563/1563 [==============================] - 1287s 823ms/step - loss: 0.4733 - acc: 0.8364 - val_loss: 0.5104 - val_acc: 0.8354\n",
      "Epoch 63/125\n",
      "1563/1563 [==============================] - 1279s 818ms/step - loss: 0.4680 - acc: 0.8366 - val_loss: 0.4158 - val_acc: 0.8616\n",
      "Epoch 64/125\n",
      "1563/1563 [==============================] - 1273s 814ms/step - loss: 0.4659 - acc: 0.8390 - val_loss: 0.4280 - val_acc: 0.8599\n",
      "Epoch 65/125\n",
      "1563/1563 [==============================] - 1270s 812ms/step - loss: 0.4635 - acc: 0.8384 - val_loss: 0.4446 - val_acc: 0.8517\n",
      "Epoch 66/125\n",
      "1563/1563 [==============================] - 1268s 812ms/step - loss: 0.4628 - acc: 0.8395 - val_loss: 0.4483 - val_acc: 0.8533\n",
      "Epoch 67/125\n",
      "1563/1563 [==============================] - 1268s 811ms/step - loss: 0.4608 - acc: 0.8397 - val_loss: 0.4335 - val_acc: 0.8570\n",
      "Epoch 68/125\n",
      "1563/1563 [==============================] - 1269s 812ms/step - loss: 0.4621 - acc: 0.8382 - val_loss: 0.4538 - val_acc: 0.8534\n",
      "Epoch 69/125\n",
      "1563/1563 [==============================] - 1273s 815ms/step - loss: 0.4609 - acc: 0.8407 - val_loss: 0.4011 - val_acc: 0.8694\n",
      "Epoch 70/125\n",
      "1563/1563 [==============================] - 1271s 813ms/step - loss: 0.4532 - acc: 0.8423 - val_loss: 0.4133 - val_acc: 0.8655\n",
      "Epoch 71/125\n",
      "1563/1563 [==============================] - 1273s 814ms/step - loss: 0.4531 - acc: 0.8416 - val_loss: 0.4009 - val_acc: 0.8691\n",
      "Epoch 72/125\n",
      "1563/1563 [==============================] - 1272s 814ms/step - loss: 0.4493 - acc: 0.8442 - val_loss: 0.4120 - val_acc: 0.8685\n",
      "Epoch 73/125\n",
      "1563/1563 [==============================] - 1268s 811ms/step - loss: 0.4524 - acc: 0.8416 - val_loss: 0.4048 - val_acc: 0.8667\n",
      "Epoch 74/125\n",
      "1563/1563 [==============================] - 1270s 812ms/step - loss: 0.4525 - acc: 0.8431 - val_loss: 0.4459 - val_acc: 0.8556\n",
      "Epoch 75/125\n",
      "1563/1563 [==============================] - 821s 525ms/step - loss: 0.4492 - acc: 0.8437 - val_loss: 0.4184 - val_acc: 0.8661\n",
      "Epoch 76/125\n",
      "1563/1563 [==============================] - 700s 448ms/step - loss: 0.4486 - acc: 0.8448 - val_loss: 0.4460 - val_acc: 0.8556\n",
      "Epoch 77/125\n",
      "1563/1563 [==============================] - 700s 448ms/step - loss: 0.4283 - acc: 0.8532 - val_loss: 0.4091 - val_acc: 0.8701\n",
      "Epoch 78/125\n",
      "1563/1563 [==============================] - 700s 448ms/step - loss: 0.4141 - acc: 0.8546 - val_loss: 0.4202 - val_acc: 0.8649\n",
      "Epoch 79/125\n",
      "1563/1563 [==============================] - 716s 458ms/step - loss: 0.4188 - acc: 0.8547 - val_loss: 0.4129 - val_acc: 0.8682\n",
      "Epoch 80/125\n",
      "1563/1563 [==============================] - 1205s 771ms/step - loss: 0.4110 - acc: 0.8560 - val_loss: 0.4008 - val_acc: 0.8695\n",
      "Epoch 81/125\n",
      "1563/1563 [==============================] - 1309s 837ms/step - loss: 0.4101 - acc: 0.8560 - val_loss: 0.4610 - val_acc: 0.8547\n",
      "Epoch 82/125\n",
      "1563/1563 [==============================] - 1310s 838ms/step - loss: 0.4063 - acc: 0.8587 - val_loss: 0.4034 - val_acc: 0.8715\n",
      "Epoch 83/125\n",
      "1563/1563 [==============================] - 1306s 836ms/step - loss: 0.4074 - acc: 0.8590 - val_loss: 0.4237 - val_acc: 0.8664\n",
      "Epoch 84/125\n",
      "1563/1563 [==============================] - 1311s 839ms/step - loss: 0.4067 - acc: 0.8586 - val_loss: 0.4044 - val_acc: 0.8716\n",
      "Epoch 85/125\n",
      "1563/1563 [==============================] - 1327s 849ms/step - loss: 0.4094 - acc: 0.8559 - val_loss: 0.4389 - val_acc: 0.8607\n",
      "Epoch 86/125\n",
      "1563/1563 [==============================] - 1327s 849ms/step - loss: 0.4017 - acc: 0.8593 - val_loss: 0.3922 - val_acc: 0.8745\n",
      "Epoch 87/125\n",
      "1563/1563 [==============================] - 1320s 845ms/step - loss: 0.4015 - acc: 0.8585 - val_loss: 0.4203 - val_acc: 0.8655\n",
      "Epoch 88/125\n",
      "1563/1563 [==============================] - 1305s 835ms/step - loss: 0.4023 - acc: 0.8614 - val_loss: 0.4191 - val_acc: 0.8661\n",
      "Epoch 89/125\n",
      "1563/1563 [==============================] - 1310s 838ms/step - loss: 0.3986 - acc: 0.8612 - val_loss: 0.4291 - val_acc: 0.8633\n",
      "Epoch 90/125\n",
      "1563/1563 [==============================] - 1310s 838ms/step - loss: 0.4041 - acc: 0.8599 - val_loss: 0.4229 - val_acc: 0.8680\n",
      "Epoch 91/125\n",
      "1563/1563 [==============================] - 1319s 844ms/step - loss: 0.3990 - acc: 0.8614 - val_loss: 0.3942 - val_acc: 0.8742\n",
      "Epoch 92/125\n",
      "1563/1563 [==============================] - 1311s 839ms/step - loss: 0.4037 - acc: 0.8594 - val_loss: 0.3884 - val_acc: 0.8752\n",
      "Epoch 93/125\n",
      "1563/1563 [==============================] - 1310s 838ms/step - loss: 0.3963 - acc: 0.8612 - val_loss: 0.3896 - val_acc: 0.8729\n",
      "Epoch 94/125\n",
      "1563/1563 [==============================] - 1313s 840ms/step - loss: 0.3988 - acc: 0.8602 - val_loss: 0.3946 - val_acc: 0.8731\n",
      "Epoch 95/125\n",
      "1563/1563 [==============================] - 1311s 839ms/step - loss: 0.3956 - acc: 0.8614 - val_loss: 0.4299 - val_acc: 0.8625\n",
      "Epoch 96/125\n",
      "1563/1563 [==============================] - 1312s 839ms/step - loss: 0.3993 - acc: 0.8601 - val_loss: 0.4228 - val_acc: 0.8679\n",
      "Epoch 97/125\n",
      "1563/1563 [==============================] - 1308s 837ms/step - loss: 0.3913 - acc: 0.8633 - val_loss: 0.3692 - val_acc: 0.8824\n",
      "Epoch 98/125\n",
      "1563/1563 [==============================] - 1307s 836ms/step - loss: 0.3885 - acc: 0.8666 - val_loss: 0.4559 - val_acc: 0.8570\n",
      "Epoch 99/125\n",
      "1563/1563 [==============================] - 1308s 837ms/step - loss: 0.3922 - acc: 0.8632 - val_loss: 0.3967 - val_acc: 0.8723\n",
      "Epoch 100/125\n",
      "1563/1563 [==============================] - 1305s 835ms/step - loss: 0.3947 - acc: 0.8630 - val_loss: 0.4089 - val_acc: 0.8702\n",
      "Epoch 101/125\n",
      "1563/1563 [==============================] - 1306s 836ms/step - loss: 0.3885 - acc: 0.8644 - val_loss: 0.3817 - val_acc: 0.8765\n",
      "Epoch 102/125\n",
      "1563/1563 [==============================] - 1305s 835ms/step - loss: 0.3891 - acc: 0.8652 - val_loss: 0.3975 - val_acc: 0.8696\n",
      "Epoch 103/125\n",
      "1563/1563 [==============================] - 1304s 835ms/step - loss: 0.3844 - acc: 0.8664 - val_loss: 0.4129 - val_acc: 0.8674\n",
      "Epoch 104/125\n",
      "1563/1563 [==============================] - 1307s 836ms/step - loss: 0.3873 - acc: 0.8651 - val_loss: 0.3914 - val_acc: 0.8739\n",
      "Epoch 105/125\n",
      "1563/1563 [==============================] - 1306s 836ms/step - loss: 0.3854 - acc: 0.8650 - val_loss: 0.4075 - val_acc: 0.8696\n",
      "Epoch 106/125\n",
      "1563/1563 [==============================] - 1308s 837ms/step - loss: 0.3882 - acc: 0.8638 - val_loss: 0.3915 - val_acc: 0.8738\n",
      "Epoch 107/125\n",
      "1563/1563 [==============================] - 1306s 835ms/step - loss: 0.3810 - acc: 0.8670 - val_loss: 0.3983 - val_acc: 0.8710\n",
      "Epoch 108/125\n",
      "1563/1563 [==============================] - 1307s 836ms/step - loss: 0.3854 - acc: 0.8661 - val_loss: 0.3917 - val_acc: 0.8756\n",
      "Epoch 109/125\n",
      "1563/1563 [==============================] - 1306s 836ms/step - loss: 0.3834 - acc: 0.8659 - val_loss: 0.4076 - val_acc: 0.8708\n",
      "Epoch 110/125\n",
      "1563/1563 [==============================] - 1303s 834ms/step - loss: 0.3814 - acc: 0.8659 - val_loss: 0.4228 - val_acc: 0.8667\n",
      "Epoch 111/125\n",
      "1563/1563 [==============================] - 1307s 836ms/step - loss: 0.3852 - acc: 0.8642 - val_loss: 0.4357 - val_acc: 0.8601\n",
      "Epoch 112/125\n",
      "1563/1563 [==============================] - 1307s 836ms/step - loss: 0.3841 - acc: 0.8674 - val_loss: 0.4106 - val_acc: 0.8707\n",
      "Epoch 113/125\n",
      "1563/1563 [==============================] - 1306s 836ms/step - loss: 0.3767 - acc: 0.8687 - val_loss: 0.4047 - val_acc: 0.8684\n",
      "Epoch 114/125\n",
      "1563/1563 [==============================] - 1308s 837ms/step - loss: 0.3810 - acc: 0.8668 - val_loss: 0.4015 - val_acc: 0.8699\n",
      "Epoch 115/125\n",
      "1563/1563 [==============================] - 1309s 838ms/step - loss: 0.3799 - acc: 0.8668 - val_loss: 0.3699 - val_acc: 0.8803\n",
      "Epoch 116/125\n"
     ]
    },
    {
     "name": "stdout",
     "output_type": "stream",
     "text": [
      "1563/1563 [==============================] - 1308s 837ms/step - loss: 0.3791 - acc: 0.8662 - val_loss: 0.3880 - val_acc: 0.8750\n",
      "Epoch 117/125\n",
      "1563/1563 [==============================] - 1306s 835ms/step - loss: 0.3785 - acc: 0.8686 - val_loss: 0.4156 - val_acc: 0.8685\n",
      "Epoch 118/125\n",
      "1563/1563 [==============================] - 1307s 836ms/step - loss: 0.3816 - acc: 0.8670 - val_loss: 0.3950 - val_acc: 0.8716\n",
      "Epoch 119/125\n",
      "1563/1563 [==============================] - 1303s 834ms/step - loss: 0.3737 - acc: 0.8701 - val_loss: 0.4109 - val_acc: 0.8710\n",
      "Epoch 120/125\n",
      "1563/1563 [==============================] - 1306s 836ms/step - loss: 0.3749 - acc: 0.8678 - val_loss: 0.3675 - val_acc: 0.8809\n",
      "Epoch 121/125\n",
      "1563/1563 [==============================] - 1304s 835ms/step - loss: 0.3781 - acc: 0.8668 - val_loss: 0.4050 - val_acc: 0.8715\n",
      "Epoch 122/125\n",
      "1563/1563 [==============================] - 1304s 834ms/step - loss: 0.3756 - acc: 0.8683 - val_loss: 0.3961 - val_acc: 0.8745\n",
      "Epoch 123/125\n",
      "1563/1563 [==============================] - 1306s 836ms/step - loss: 0.3723 - acc: 0.8699 - val_loss: 0.4059 - val_acc: 0.8753\n",
      "Epoch 124/125\n",
      "1563/1563 [==============================] - 1309s 838ms/step - loss: 0.3794 - acc: 0.8665 - val_loss: 0.3886 - val_acc: 0.8724\n",
      "Epoch 125/125\n",
      "1563/1563 [==============================] - 1305s 835ms/step - loss: 0.3783 - acc: 0.8681 - val_loss: 0.3944 - val_acc: 0.8722\n",
      "10000/10000 [==============================] - 91s 9ms/step\n",
      "\n",
      " Test result: 87.22% loss: 0.394\n"
     ]
    }
   ],
   "source": [
    "checkpoint = ModelCheckpoint('E:\\\\school\\\\2-2\\\\ac_eng\\\\cifar\\\\model\\\\cnn_model_2.h5',  monitor='val_loss', verbose=0, save_best_only= True, mode='auto') \n",
    "\n",
    "model_details = model.fit_generator(datagen.flow(X_train, Y_train, batch_size=32),\n",
    "              shuffle=True,\n",
    "              epochs=125,\n",
    "              validation_data=(X_test, Y_test),\n",
    "              callbacks=[checkpoint, LearningRateScheduler(lr_schedule)])\n",
    "\n",
    "scores = model.evaluate(X_test, Y_test)\n",
    "print('\\n Test result: %.2f%% loss: %.3f' % (scores[1]*100, scores[0]))"
   ]
  },
  {
   "cell_type": "markdown",
   "metadata": {},
   "source": [
    "### 7. 准确率/误差曲线"
   ]
  },
  {
   "cell_type": "code",
   "execution_count": 10,
   "metadata": {},
   "outputs": [],
   "source": [
    "import matplotlib.pyplot as plt\n",
    "\n",
    "def plot_model_details(model_details):\n",
    "    plt.figure(figsize=(15, 5))\n",
    "     # plot model accuracy\n",
    "    plt.subplot(1, 2, 1)\n",
    "    plt.title('Model Accuracy')\n",
    "    plt.ylabel('Accuracy')\n",
    "    plt.xlabel('Epoch')\n",
    "    plt.plot(range(1, len(model_details.history['acc'])+1), model_details.history['acc'])\n",
    "    plt.plot(range(1, len(model_details.history['val_acc'])+1), model_details.history['val_acc'])\n",
    "    plt.xticks(np.arange(1, len(model_details.history['acc'])+len(model_details.history['acc'])/10, len(model_details.history['acc'])/10))\n",
    "    plt.legend(['train', 'validation'], loc='best')\n",
    "    \n",
    "    # plot model loss\n",
    "    plt.subplot(1, 2, 2)\n",
    "    plt.title('Model Loss')\n",
    "    plt.ylabel('Loss')\n",
    "    plt.xlabel('Epoch')\n",
    "    plt.plot(range(1, len(model_details.history['loss'])+1), model_details.history['loss'])\n",
    "    plt.plot(range(1, len(model_details.history['val_loss'])+1), model_details.history['val_loss'])\n",
    "    plt.xticks(np.arange(1, len(model_details.history['loss'])+len(model_details.history['loss'])/10, len(model_details.history['loss'])/10))\n",
    "    plt.legend(['train', 'validation'], loc='best')"
   ]
  },
  {
   "cell_type": "code",
   "execution_count": 11,
   "metadata": {},
   "outputs": [
    {
     "data": {
      "image/png": "[encoded data removed]",
      "text/plain": [
       "<matplotlib.figure.Figure at 0x1a91ef7fb70>"
      ]
     },
     "metadata": {},
     "output_type": "display_data"
    }
   ],
   "source": [
    "plot_model_details(model_details)"
   ]
  }
 ],
 "metadata": {
  "kernelspec": {
   "display_name": "Python 3",
   "language": "python",
   "name": "python3"
  },
  "language_info": {
   "codemirror_mode": {
    "name": "ipython",
    "version": 3
   },
   "file_extension": ".py",
   "mimetype": "text/x-python",
   "name": "python",
   "nbconvert_exporter": "python",
   "pygments_lexer": "ipython3",
   "version": "3.6.4"
  }
 },
 "nbformat": 4,
 "nbformat_minor": 2
}
