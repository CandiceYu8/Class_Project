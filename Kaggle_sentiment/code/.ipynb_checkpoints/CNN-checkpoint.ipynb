{
 "cells": [
  {
   "cell_type": "code",
   "execution_count": 1,
   "metadata": {},
   "outputs": [],
   "source": [
    "import pandas as pd\n",
    "import numpy as np"
   ]
  },
  {
   "cell_type": "markdown",
   "metadata": {},
   "source": [
    "### load data"
   ]
  },
  {
   "cell_type": "code",
   "execution_count": 2,
   "metadata": {},
   "outputs": [],
   "source": [
    "train_data_x = np.load(\"E:\\\\school\\\\2-2\\\\AI\\\\Project2\\\\data\\\\train_x_100_5.npy\")\n",
    "train_data_y = np.load(\"E:\\\\school\\\\2-2\\\\AI\\\\Project2\\\\data\\\\train_y.npy\")\n",
    "test_data_x = np.load(\"E:\\\\school\\\\2-2\\\\AI\\\\Project2\\\\data\\\\test_x_100_5.npy\")"
   ]
  },
  {
   "cell_type": "code",
   "execution_count": 3,
   "metadata": {},
   "outputs": [
    {
     "data": {
      "text/plain": [
       "(25000, 100)"
      ]
     },
     "execution_count": 3,
     "metadata": {},
     "output_type": "execute_result"
    }
   ],
   "source": [
    "train_data_x.shape"
   ]
  },
  {
   "cell_type": "code",
   "execution_count": 4,
   "metadata": {},
   "outputs": [],
   "source": [
    "train_data_x = train_data_x.reshape(25000,100,1)"
   ]
  },
  {
   "cell_type": "markdown",
   "metadata": {},
   "source": [
    "###  using Keras CNN"
   ]
  },
  {
   "cell_type": "code",
   "execution_count": 5,
   "metadata": {},
   "outputs": [
    {
     "name": "stderr",
     "output_type": "stream",
     "text": [
      "Using TensorFlow backend.\n"
     ]
    }
   ],
   "source": [
    "from keras.models import Sequential\n",
    "from keras.layers import Dense, Dropout, Conv1D, GlobalMaxPooling1D"
   ]
  },
  {
   "cell_type": "code",
   "execution_count": 6,
   "metadata": {
    "scrolled": false
   },
   "outputs": [
    {
     "name": "stdout",
     "output_type": "stream",
     "text": [
      "WARNING:tensorflow:From C:\\Users\\Candice\\Anaconda3\\lib\\site-packages\\tensorflow\\python\\util\\deprecation.py:497: calling conv1d (from tensorflow.python.ops.nn_ops) with data_format=NHWC is deprecated and will be removed in a future version.\n",
      "Instructions for updating:\n",
      "`NHWC` for data_format is deprecated, use `NWC` instead\n",
      "Train on 20000 samples, validate on 5000 samples\n",
      "Epoch 1/10\n",
      "20000/20000 [==============================] - 14s 704us/step - loss: 0.6385 - acc: 0.6287 - val_loss: 0.6004 - val_acc: 0.6828\n",
      "Epoch 2/10\n",
      "20000/20000 [==============================] - 14s 686us/step - loss: 0.6102 - acc: 0.6640 - val_loss: 0.5953 - val_acc: 0.6868\n",
      "Epoch 3/10\n",
      "20000/20000 [==============================] - 14s 692us/step - loss: 0.5979 - acc: 0.6759 - val_loss: 0.5907 - val_acc: 0.6890\n",
      "Epoch 4/10\n",
      "20000/20000 [==============================] - 13s 669us/step - loss: 0.5929 - acc: 0.6823 - val_loss: 0.5878 - val_acc: 0.6896\n",
      "Epoch 5/10\n",
      "20000/20000 [==============================] - 13s 645us/step - loss: 0.5914 - acc: 0.6831 - val_loss: 0.5899 - val_acc: 0.6858\n",
      "Epoch 6/10\n",
      "20000/20000 [==============================] - 13s 647us/step - loss: 0.5892 - acc: 0.6839 - val_loss: 0.5937 - val_acc: 0.6822\n",
      "Epoch 7/10\n",
      "20000/20000 [==============================] - 13s 654us/step - loss: 0.5879 - acc: 0.6834 - val_loss: 0.5828 - val_acc: 0.6920\n",
      "Epoch 8/10\n",
      "20000/20000 [==============================] - 13s 664us/step - loss: 0.5864 - acc: 0.6861 - val_loss: 0.5855 - val_acc: 0.6910\n",
      "Epoch 9/10\n",
      "20000/20000 [==============================] - 13s 675us/step - loss: 0.5862 - acc: 0.6871 - val_loss: 0.5846 - val_acc: 0.6900\n",
      "Epoch 10/10\n",
      "20000/20000 [==============================] - 14s 698us/step - loss: 0.5855 - acc: 0.6866 - val_loss: 0.5827 - val_acc: 0.6914\n",
      "25000/25000 [==============================] - 4s 150us/step\n"
     ]
    },
    {
     "data": {
      "text/plain": [
       "[0.5732823976898194, 0.69568]"
      ]
     },
     "execution_count": 6,
     "metadata": {},
     "output_type": "execute_result"
    }
   ],
   "source": [
    "model = Sequential()\n",
    "model.add(Conv1D(filters=128,\n",
    "                 kernel_size=3,\n",
    "                 activation='relu',\n",
    "                 strides=1,\n",
    "                 input_shape=(100, 1)))\n",
    "\n",
    "model.add(GlobalMaxPooling1D())\n",
    "\n",
    "model.add(Dropout(0.3))\n",
    "\n",
    "model.add(Dense(64, activation='relu'))\n",
    "model.add(Dropout(0.2))\n",
    "\n",
    "model.add(Dense(1, activation='sigmoid'))\n",
    "\n",
    "model.compile(loss='binary_crossentropy',\n",
    "              optimizer='adam',\n",
    "              metrics=['accuracy'])\n",
    "\n",
    "model.fit(train_data_x, train_data_y,\n",
    "          epochs=10, shuffle= True,\n",
    "          batch_size=32, validation_split=0.2)\n",
    "\n",
    "model.evaluate(train_data_x, train_data_y, batch_size=32)"
   ]
  },
  {
   "cell_type": "markdown",
   "metadata": {},
   "source": [
    "### draw ROC curve"
   ]
  },
  {
   "cell_type": "code",
   "execution_count": 7,
   "metadata": {},
   "outputs": [],
   "source": [
    "from sklearn.metrics import roc_curve\n",
    "y_pred = model.predict(train_data_x).ravel()\n",
    "fpr_keras, tpr_keras, thresholds_keras = roc_curve(train_data_y, y_pred)"
   ]
  },
  {
   "cell_type": "code",
   "execution_count": 8,
   "metadata": {},
   "outputs": [],
   "source": [
    "from sklearn.metrics import auc\n",
    "auc_keras = auc(fpr_keras, tpr_keras)"
   ]
  },
  {
   "cell_type": "code",
   "execution_count": 15,
   "metadata": {},
   "outputs": [
    {
     "data": {
      "image/png": "[encoded data removed]",
      "text/plain": [
       "<matplotlib.figure.Figure at 0x16bc123b278>"
      ]
     },
     "metadata": {},
     "output_type": "display_data"
    }
   ],
   "source": [
    "import matplotlib.pyplot as plt\n",
    "plt.figure(1)\n",
    "plt.plot([0, 1], [0, 1], 'k--')\n",
    "plt.plot(fpr_keras, tpr_keras, label='Keras (area = {:.3f})'.format(auc_keras))\n",
    "plt.xlabel('False positive rate')\n",
    "plt.ylabel('True positive rate')\n",
    "plt.title('ROC curve')\n",
    "plt.legend(loc='best')\n",
    "plt.show()"
   ]
  },
  {
   "cell_type": "markdown",
   "metadata": {},
   "source": [
    "### predict test data"
   ]
  },
  {
   "cell_type": "code",
   "execution_count": 10,
   "metadata": {},
   "outputs": [],
   "source": [
    "# test_data_y = model.predict(test_data_x)"
   ]
  },
  {
   "cell_type": "markdown",
   "metadata": {},
   "source": [
    "### sava result"
   ]
  },
  {
   "cell_type": "code",
   "execution_count": 11,
   "metadata": {},
   "outputs": [],
   "source": [
    "# test_id = pd.read_csv('E:\\\\school\\\\2-2\\\\AI\\\\Project2\\\\data\\\\testData.tsv', sep=\"\\t\", header=0)"
   ]
  },
  {
   "cell_type": "code",
   "execution_count": 12,
   "metadata": {},
   "outputs": [],
   "source": [
    "# test_y_path = 'E:\\\\school\\\\2-2\\\\AI\\\\Project2\\\\data\\\\w2vKeras.csv'"
   ]
  },
  {
   "cell_type": "code",
   "execution_count": 13,
   "metadata": {},
   "outputs": [],
   "source": [
    "# test_id['sentiment'] = test_data_y"
   ]
  },
  {
   "cell_type": "code",
   "execution_count": 14,
   "metadata": {},
   "outputs": [],
   "source": [
    "# test_id.to_csv(test_y_path, columns=['id', 'sentiment'], index=0)"
   ]
  }
 ],
 "metadata": {
  "kernelspec": {
   "display_name": "Python 3",
   "language": "python",
   "name": "python3"
  },
  "language_info": {
   "codemirror_mode": {
    "name": "ipython",
    "version": 3
   },
   "file_extension": ".py",
   "mimetype": "text/x-python",
   "name": "python",
   "nbconvert_exporter": "python",
   "pygments_lexer": "ipython3",
   "version": "3.6.4"
  }
 },
 "nbformat": 4,
 "nbformat_minor": 2
}
