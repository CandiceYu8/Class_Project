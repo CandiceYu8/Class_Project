{
 "cells": [
  {
   "cell_type": "code",
   "execution_count": 1,
   "metadata": {},
   "outputs": [],
   "source": [
    "import pandas as pd\n",
    "import numpy as np"
   ]
  },
  {
   "cell_type": "markdown",
   "metadata": {},
   "source": [
    "### load data"
   ]
  },
  {
   "cell_type": "code",
   "execution_count": 2,
   "metadata": {},
   "outputs": [],
   "source": [
    "train_data_x = np.load(\"E:\\\\school\\\\2-2\\\\AI\\\\Project2\\\\data\\\\train_x_100_5.npy\")\n",
    "train_data_y = np.load(\"E:\\\\school\\\\2-2\\\\AI\\\\Project2\\\\data\\\\train_y.npy\")\n",
    "test_data_x = np.load(\"E:\\\\school\\\\2-2\\\\AI\\\\Project2\\\\data\\\\test_x_100_5.npy\")"
   ]
  },
  {
   "cell_type": "code",
   "execution_count": 3,
   "metadata": {},
   "outputs": [
    {
     "data": {
      "text/plain": [
       "(25000, 100)"
      ]
     },
     "execution_count": 3,
     "metadata": {},
     "output_type": "execute_result"
    }
   ],
   "source": [
    "train_data_x.shape"
   ]
  },
  {
   "cell_type": "code",
   "execution_count": 4,
   "metadata": {},
   "outputs": [],
   "source": [
    "train_data_x = train_data_x.reshape(25000,100,1)"
   ]
  },
  {
   "cell_type": "markdown",
   "metadata": {},
   "source": [
    "###  using Keras LSTM"
   ]
  },
  {
   "cell_type": "code",
   "execution_count": 5,
   "metadata": {},
   "outputs": [
    {
     "name": "stderr",
     "output_type": "stream",
     "text": [
      "Using TensorFlow backend.\n"
     ]
    }
   ],
   "source": [
    "from keras.models import Sequential\n",
    "from keras.layers import Dense, Dropout, LSTM\n",
    "from keras.callbacks import EarlyStopping"
   ]
  },
  {
   "cell_type": "code",
   "execution_count": 6,
   "metadata": {
    "scrolled": true
   },
   "outputs": [
    {
     "name": "stdout",
     "output_type": "stream",
     "text": [
      "Train on 20000 samples, validate on 5000 samples\n",
      "Epoch 1/100\n",
      "20000/20000 [==============================] - 88s 4ms/step - loss: 0.6336 - acc: 0.6347 - val_loss: 0.6093 - val_acc: 0.6702\n",
      "Epoch 2/100\n",
      "20000/20000 [==============================] - 84s 4ms/step - loss: 0.5863 - acc: 0.6778 - val_loss: 0.5595 - val_acc: 0.7136\n",
      "Epoch 3/100\n",
      "20000/20000 [==============================] - 83s 4ms/step - loss: 0.5362 - acc: 0.7188 - val_loss: 0.5132 - val_acc: 0.7512\n",
      "Epoch 4/100\n",
      "20000/20000 [==============================] - 85s 4ms/step - loss: 0.5146 - acc: 0.7411 - val_loss: 0.4835 - val_acc: 0.7672\n",
      "Epoch 5/100\n",
      "20000/20000 [==============================] - 87s 4ms/step - loss: 0.5037 - acc: 0.7535 - val_loss: 0.4758 - val_acc: 0.7780\n",
      "Epoch 6/100\n",
      "20000/20000 [==============================] - 85s 4ms/step - loss: 0.4871 - acc: 0.7640 - val_loss: 0.4949 - val_acc: 0.7666\n",
      "Epoch 7/100\n",
      "20000/20000 [==============================] - 85s 4ms/step - loss: 0.4783 - acc: 0.7710 - val_loss: 0.4683 - val_acc: 0.7806\n",
      "Epoch 8/100\n",
      "20000/20000 [==============================] - 83s 4ms/step - loss: 0.4717 - acc: 0.7726 - val_loss: 0.4721 - val_acc: 0.7764\n",
      "Epoch 9/100\n",
      "20000/20000 [==============================] - 84s 4ms/step - loss: 0.4640 - acc: 0.7806 - val_loss: 0.4556 - val_acc: 0.7900\n",
      "Epoch 10/100\n",
      "20000/20000 [==============================] - 83s 4ms/step - loss: 0.4577 - acc: 0.7832 - val_loss: 0.4514 - val_acc: 0.7906\n",
      "Epoch 11/100\n",
      "20000/20000 [==============================] - 84s 4ms/step - loss: 0.4533 - acc: 0.7907 - val_loss: 0.4362 - val_acc: 0.7984\n",
      "Epoch 12/100\n",
      "20000/20000 [==============================] - 85s 4ms/step - loss: 0.4468 - acc: 0.7894 - val_loss: 0.4397 - val_acc: 0.7968\n",
      "Epoch 13/100\n",
      "20000/20000 [==============================] - 84s 4ms/step - loss: 0.4445 - acc: 0.7944 - val_loss: 0.4423 - val_acc: 0.7984\n",
      "Epoch 14/100\n",
      "20000/20000 [==============================] - 84s 4ms/step - loss: 0.4373 - acc: 0.7988 - val_loss: 0.4454 - val_acc: 0.7960\n",
      "25000/25000 [==============================] - 24s 950us/step\n"
     ]
    },
    {
     "data": {
      "text/plain": [
       "[0.4158741228199005, 0.81084]"
      ]
     },
     "execution_count": 6,
     "metadata": {},
     "output_type": "execute_result"
    }
   ],
   "source": [
    "model = Sequential()\n",
    "\n",
    "model.add(LSTM(128, dropout=0.2, recurrent_dropout=0.2, input_shape=(100,1)))\n",
    "\n",
    "model.add(Dense(64, activation='relu'))\n",
    "\n",
    "model.add(Dense(1, activation='sigmoid'))\n",
    "\n",
    "model.compile(loss='binary_crossentropy',\n",
    "              optimizer='adam',\n",
    "              metrics=['accuracy'])\n",
    "\n",
    "model.fit(train_data_x, train_data_y,\n",
    "          epochs=100, shuffle= True,\n",
    "          batch_size=32, validation_split=0.2,\n",
    "          callbacks=[EarlyStopping(min_delta=0.001, patience=3)])\n",
    "\n",
    "model.evaluate(train_data_x, train_data_y, batch_size=32)"
   ]
  },
  {
   "cell_type": "markdown",
   "metadata": {},
   "source": [
    "### draw ROC curve"
   ]
  },
  {
   "cell_type": "code",
   "execution_count": 7,
   "metadata": {},
   "outputs": [],
   "source": [
    "from sklearn.metrics import roc_curve\n",
    "y_pred = model.predict(train_data_x).ravel()\n",
    "fpr_keras, tpr_keras, thresholds_keras = roc_curve(train_data_y, y_pred)"
   ]
  },
  {
   "cell_type": "code",
   "execution_count": 8,
   "metadata": {},
   "outputs": [],
   "source": [
    "from sklearn.metrics import auc\n",
    "auc_keras = auc(fpr_keras, tpr_keras)"
   ]
  },
  {
   "cell_type": "code",
   "execution_count": 11,
   "metadata": {},
   "outputs": [
    {
     "data": {
      "image/png": "[encoded data removed]",
      "text/plain": [
       "<matplotlib.figure.Figure at 0x26a26e2b668>"
      ]
     },
     "metadata": {},
     "output_type": "display_data"
    }
   ],
   "source": [
    "import matplotlib.pyplot as plt\n",
    "plt.figure(1)\n",
    "plt.plot([0, 1], [0, 1], 'k--')\n",
    "plt.plot(fpr_keras, tpr_keras, label='Keras (area = {:.3f})'.format(auc_keras))\n",
    "plt.xlabel('False positive rate')\n",
    "plt.ylabel('True positive rate')\n",
    "plt.title('ROC curve')\n",
    "plt.legend(loc='best')\n",
    "plt.show()"
   ]
  },
  {
   "cell_type": "markdown",
   "metadata": {},
   "source": [
    "### predict test data"
   ]
  },
  {
   "cell_type": "code",
   "execution_count": 12,
   "metadata": {},
   "outputs": [],
   "source": [
    "test_data_y = model.predict(test_data_x.reshape(25000,100,1))"
   ]
  },
  {
   "cell_type": "markdown",
   "metadata": {},
   "source": [
    "### sava result"
   ]
  },
  {
   "cell_type": "code",
   "execution_count": 13,
   "metadata": {},
   "outputs": [],
   "source": [
    "# test_id = pd.read_csv('E:\\\\school\\\\2-2\\\\AI\\\\Project2\\\\data\\\\testData.tsv', sep=\"\\t\", header=0)"
   ]
  },
  {
   "cell_type": "code",
   "execution_count": 14,
   "metadata": {},
   "outputs": [],
   "source": [
    "# test_y_path = 'E:\\\\school\\\\2-2\\\\AI\\\\Project2\\\\data\\\\w2vLSTM.csv'"
   ]
  },
  {
   "cell_type": "code",
   "execution_count": 15,
   "metadata": {},
   "outputs": [],
   "source": [
    "# test_id['sentiment'] = test_data_y"
   ]
  },
  {
   "cell_type": "code",
   "execution_count": 16,
   "metadata": {},
   "outputs": [],
   "source": [
    "# test_id.to_csv(test_y_path, columns=['id', 'sentiment'], index=0)"
   ]
  }
 ],
 "metadata": {
  "kernelspec": {
   "display_name": "Python 3",
   "language": "python",
   "name": "python3"
  },
  "language_info": {
   "codemirror_mode": {
    "name": "ipython",
    "version": 3
   },
   "file_extension": ".py",
   "mimetype": "text/x-python",
   "name": "python",
   "nbconvert_exporter": "python",
   "pygments_lexer": "ipython3",
   "version": "3.6.4"
  }
 },
 "nbformat": 4,
 "nbformat_minor": 2
}
