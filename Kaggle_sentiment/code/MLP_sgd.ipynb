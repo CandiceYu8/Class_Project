{
 "cells": [
  {
   "cell_type": "code",
   "execution_count": 1,
   "metadata": {},
   "outputs": [],
   "source": [
    "import pandas as pd\n",
    "import numpy as np"
   ]
  },
  {
   "cell_type": "markdown",
   "metadata": {},
   "source": [
    "### load data"
   ]
  },
  {
   "cell_type": "code",
   "execution_count": 2,
   "metadata": {},
   "outputs": [],
   "source": [
    "train_data_x = np.load(\"E:\\\\school\\\\2-2\\\\AI\\\\Project2\\\\data\\\\train_x_300_30.npy\")\n",
    "train_data_y = np.load(\"E:\\\\school\\\\2-2\\\\AI\\\\Project2\\\\data\\\\train_y.npy\")\n",
    "test_data_x = np.load(\"E:\\\\school\\\\2-2\\\\AI\\\\Project2\\\\data\\\\test_x_300_30.npy\")"
   ]
  },
  {
   "cell_type": "markdown",
   "metadata": {},
   "source": [
    "###  using Keras Dense with SGD optimizer"
   ]
  },
  {
   "cell_type": "code",
   "execution_count": 3,
   "metadata": {},
   "outputs": [
    {
     "name": "stderr",
     "output_type": "stream",
     "text": [
      "Using TensorFlow backend.\n"
     ]
    }
   ],
   "source": [
    "from keras.models import Sequential\n",
    "from keras.layers import Dense, Dropout, Activation\n",
    "from keras.optimizers import SGD"
   ]
  },
  {
   "cell_type": "code",
   "execution_count": 4,
   "metadata": {
    "scrolled": true
   },
   "outputs": [
    {
     "name": "stdout",
     "output_type": "stream",
     "text": [
      "WARNING:tensorflow:Variable *= will be deprecated. Use variable.assign_mul if you want assignment to the variable value or 'x = x * y' if you want a new python Tensor object.\n",
      "Train on 20000 samples, validate on 5000 samples\n",
      "Epoch 1/10\n",
      "20000/20000 [==============================] - 3s 132us/step - loss: 0.4277 - acc: 0.8067 - val_loss: 0.3314 - val_acc: 0.8620\n",
      "Epoch 2/10\n",
      "20000/20000 [==============================] - 2s 114us/step - loss: 0.3280 - acc: 0.8640 - val_loss: 0.3284 - val_acc: 0.8630\n",
      "Epoch 3/10\n",
      "20000/20000 [==============================] - 2s 114us/step - loss: 0.3118 - acc: 0.8689 - val_loss: 0.3734 - val_acc: 0.8404\n",
      "Epoch 4/10\n",
      "20000/20000 [==============================] - 2s 93us/step - loss: 0.3060 - acc: 0.8729 - val_loss: 0.3296 - val_acc: 0.8624\n",
      "Epoch 5/10\n",
      "20000/20000 [==============================] - 1s 66us/step - loss: 0.3015 - acc: 0.8747 - val_loss: 0.3207 - val_acc: 0.8632\n",
      "Epoch 6/10\n",
      "20000/20000 [==============================] - 1s 67us/step - loss: 0.2949 - acc: 0.8770 - val_loss: 0.3020 - val_acc: 0.8730\n",
      "Epoch 7/10\n",
      "20000/20000 [==============================] - ETA: 0s - loss: 0.2901 - acc: 0.880 - 1s 63us/step - loss: 0.2905 - acc: 0.8806 - val_loss: 0.3011 - val_acc: 0.8746\n",
      "Epoch 8/10\n",
      "20000/20000 [==============================] - 1s 64us/step - loss: 0.2849 - acc: 0.8822 - val_loss: 0.2973 - val_acc: 0.8748\n",
      "Epoch 9/10\n",
      "20000/20000 [==============================] - 1s 64us/step - loss: 0.2810 - acc: 0.8846 - val_loss: 0.3084 - val_acc: 0.8728\n",
      "Epoch 10/10\n",
      "20000/20000 [==============================] - 1s 64us/step - loss: 0.2800 - acc: 0.8842 - val_loss: 0.2966 - val_acc: 0.8782\n",
      "25000/25000 [==============================] - 0s 17us/step\n"
     ]
    },
    {
     "data": {
      "text/plain": [
       "[0.26524447052001954, 0.89208]"
      ]
     },
     "execution_count": 4,
     "metadata": {},
     "output_type": "execute_result"
    }
   ],
   "source": [
    "model = Sequential()\n",
    "model.add(Dense(600,input_dim=300, activation='relu'))\n",
    "model.add(Dropout(0.5))\n",
    "\n",
    "model.add(Dense(400, activation='relu'))\n",
    "model.add(Dropout(0.6))\n",
    "\n",
    "model.add(Dense(1, activation='sigmoid'))\n",
    "\n",
    "sgd = SGD(lr=0.1, decay=1e-6, momentum=0.6, nesterov=True)\n",
    "model.compile(loss='binary_crossentropy',\n",
    "              optimizer=sgd,\n",
    "              metrics=['accuracy'])\n",
    "\n",
    "model.fit(train_data_x, train_data_y,\n",
    "          epochs=10, shuffle= True,\n",
    "          batch_size=128, validation_split=0.2)\n",
    "\n",
    "model.evaluate(train_data_x, train_data_y, batch_size=128)"
   ]
  },
  {
   "cell_type": "markdown",
   "metadata": {},
   "source": [
    "### draw ROC curve"
   ]
  },
  {
   "cell_type": "code",
   "execution_count": 5,
   "metadata": {},
   "outputs": [],
   "source": [
    "from sklearn.metrics import roc_curve\n",
    "y_pred = model.predict(train_data_x).ravel()\n",
    "fpr_keras, tpr_keras, thresholds_keras = roc_curve(train_data_y, y_pred)"
   ]
  },
  {
   "cell_type": "code",
   "execution_count": 6,
   "metadata": {},
   "outputs": [],
   "source": [
    "from sklearn.metrics import auc\n",
    "auc_keras = auc(fpr_keras, tpr_keras)"
   ]
  },
  {
   "cell_type": "code",
   "execution_count": 13,
   "metadata": {
    "scrolled": true
   },
   "outputs": [
    {
     "data": {
      "image/png": "[encoded data removed]",
      "text/plain": [
       "<matplotlib.figure.Figure at 0x112ef299c50>"
      ]
     },
     "metadata": {},
     "output_type": "display_data"
    }
   ],
   "source": [
    "import matplotlib.pyplot as plt\n",
    "plt.figure(1)\n",
    "plt.plot([0, 1], [0, 1], 'k--')\n",
    "plt.plot(fpr_keras, tpr_keras, label='Keras (area = {:.3f})'.format(auc_keras))\n",
    "plt.xlabel('False positive rate')\n",
    "plt.ylabel('True positive rate')\n",
    "plt.title('ROC curve')\n",
    "plt.legend(loc='best')\n",
    "plt.show()"
   ]
  },
  {
   "cell_type": "markdown",
   "metadata": {},
   "source": [
    "### predict test data"
   ]
  },
  {
   "cell_type": "code",
   "execution_count": 8,
   "metadata": {},
   "outputs": [],
   "source": [
    "# test_data_y = model.predict(test_data_x)"
   ]
  },
  {
   "cell_type": "markdown",
   "metadata": {},
   "source": [
    "### sava result"
   ]
  },
  {
   "cell_type": "code",
   "execution_count": 9,
   "metadata": {},
   "outputs": [],
   "source": [
    "# test_id = pd.read_csv('E:\\\\school\\\\2-2\\\\AI\\\\Project2\\\\data\\\\testData.tsv', sep=\"\\t\", header=0)"
   ]
  },
  {
   "cell_type": "code",
   "execution_count": 10,
   "metadata": {},
   "outputs": [],
   "source": [
    "# test_y_path = 'E:\\\\school\\\\2-2\\\\AI\\\\Project2\\\\data\\\\w2vKeras.csv'"
   ]
  },
  {
   "cell_type": "code",
   "execution_count": 11,
   "metadata": {},
   "outputs": [],
   "source": [
    "# test_id['sentiment'] = test_data_y"
   ]
  },
  {
   "cell_type": "code",
   "execution_count": 12,
   "metadata": {},
   "outputs": [],
   "source": [
    "# test_id.to_csv(test_y_path, columns=['id', 'sentiment'], index=0)"
   ]
  }
 ],
 "metadata": {
  "kernelspec": {
   "display_name": "Python 3",
   "language": "python",
   "name": "python3"
  },
  "language_info": {
   "codemirror_mode": {
    "name": "ipython",
    "version": 3
   },
   "file_extension": ".py",
   "mimetype": "text/x-python",
   "name": "python",
   "nbconvert_exporter": "python",
   "pygments_lexer": "ipython3",
   "version": "3.6.4"
  }
 },
 "nbformat": 4,
 "nbformat_minor": 2
}
