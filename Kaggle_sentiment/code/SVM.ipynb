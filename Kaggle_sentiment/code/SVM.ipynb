{
 "cells": [
  {
   "cell_type": "code",
   "execution_count": 1,
   "metadata": {},
   "outputs": [],
   "source": [
    "import pandas as pd\n",
    "import numpy as np\n",
    "import warnings\n",
    "warnings.filterwarnings(action='ignore', category=UserWarning, module='gensim')\n",
    "from gensim.models import Word2Vec"
   ]
  },
  {
   "cell_type": "markdown",
   "metadata": {},
   "source": [
    "### load data"
   ]
  },
  {
   "cell_type": "code",
   "execution_count": 2,
   "metadata": {},
   "outputs": [],
   "source": [
    "train_x = pd.read_pickle('E:\\\\school\\\\2-2\\\\AI\\\\Project2\\\\data\\\\Modified_LTD_x.pkl')\n",
    "train_y = pd.read_pickle('E:\\\\school\\\\2-2\\\\AI\\\\Project2\\\\data\\\\Modified_LTD_y.pkl')"
   ]
  },
  {
   "cell_type": "code",
   "execution_count": 3,
   "metadata": {},
   "outputs": [
    {
     "data": {
      "text/plain": [
       "0    [[stuff, going, moment, mj, started, listening...\n",
       "1    [[classic, war, worlds, timothy, hines, entert...\n",
       "2    [[film, starts, manager, nicholas, bell, givin...\n",
       "3    [[must, assumed, praised, film, greatest, film...\n",
       "4    [[superbly, trashy, wondrously, unpretentious,...\n",
       "Name: review, dtype: object"
      ]
     },
     "execution_count": 3,
     "metadata": {},
     "output_type": "execute_result"
    }
   ],
   "source": [
    "train_x.head()"
   ]
  },
  {
   "cell_type": "code",
   "execution_count": 4,
   "metadata": {},
   "outputs": [
    {
     "data": {
      "text/plain": [
       "0    1\n",
       "1    1\n",
       "2    0\n",
       "3    0\n",
       "4    1\n",
       "Name: sentiment, dtype: int64"
      ]
     },
     "execution_count": 4,
     "metadata": {},
     "output_type": "execute_result"
    }
   ],
   "source": [
    "train_y.head()"
   ]
  },
  {
   "cell_type": "code",
   "execution_count": 5,
   "metadata": {},
   "outputs": [],
   "source": [
    "model = Word2Vec.load('E:\\\\school\\\\2-2\\\\AI\\\\Project2\\\\data\\\\model_f')"
   ]
  },
  {
   "cell_type": "markdown",
   "metadata": {},
   "source": [
    "### average word_2_vector"
   ]
  },
  {
   "cell_type": "code",
   "execution_count": 6,
   "metadata": {},
   "outputs": [],
   "source": [
    "train_data_x = []\n",
    "index2word_set = set(model.wv.index2word)\n",
    "for review in train_x:\n",
    "    cnt = 0\n",
    "    vec = np.zeros((1, 100))\n",
    "    for sentence in review:\n",
    "        for word in sentence:\n",
    "            if word in index2word_set:\n",
    "                vec = vec + model.wv.__getitem__(word)\n",
    "                cnt = cnt+1\n",
    "    vec = vec/cnt\n",
    "    train_data_x.extend(vec)"
   ]
  },
  {
   "cell_type": "code",
   "execution_count": 7,
   "metadata": {},
   "outputs": [],
   "source": [
    "train_data_x = np.array(train_data_x)\n",
    "train_data_x = np.nan_to_num(train_data_x)"
   ]
  },
  {
   "cell_type": "code",
   "execution_count": 8,
   "metadata": {},
   "outputs": [
    {
     "data": {
      "text/plain": [
       "array([-3.09661818e-01,  1.78949442e-01,  2.26472974e-01, -1.86070921e-01,\n",
       "        1.95811458e-01,  4.38611245e-01, -4.08524124e-01, -6.65671946e-01,\n",
       "        2.63174426e-01, -1.33695632e-01, -1.07492029e-01,  1.55464631e-02,\n",
       "       -3.09734471e-01, -4.25791129e-01, -7.08653548e-01,  5.44282131e-02,\n",
       "        1.56599880e-01,  2.75622610e-01, -1.80435793e-01,  6.55734103e-02,\n",
       "       -8.44379794e-02, -2.69451454e-01,  2.14453976e-01,  7.74724223e-02,\n",
       "       -1.75981418e-01, -6.13535655e-02,  9.79267536e-02, -1.64134563e-01,\n",
       "        1.76172013e-01, -5.81104011e-01,  8.90994138e-01, -7.53316830e-02,\n",
       "        3.52008596e-01, -5.03559722e-01, -2.82672584e-01,  9.93822188e-02,\n",
       "       -2.81171313e-01,  1.32458088e-01,  1.92223500e-01, -4.80042285e-01,\n",
       "        2.56657893e-01,  6.48274922e-04, -1.41304082e-01, -3.52795055e-01,\n",
       "       -3.32541964e-01,  2.56887954e-02,  8.06368992e-01, -2.29979576e-01,\n",
       "        3.17670996e-01, -3.03196477e-01,  2.99626871e-02,  1.50498620e-01,\n",
       "       -3.57288370e-01, -1.66493405e-01, -1.20845427e-01, -4.89826739e-01,\n",
       "       -1.38788009e-01,  2.37906102e-01, -6.60126944e-01, -2.47537441e-01,\n",
       "        7.91881256e-01,  6.08629825e-01, -2.96366792e-01,  1.36051668e-01,\n",
       "        7.84966603e-03,  3.75745288e-01, -1.67660520e-01,  3.41028205e-01,\n",
       "        3.10620128e-01, -1.46893283e-01,  4.08477171e-01, -4.65507408e-01,\n",
       "        8.09327459e-02,  3.02110202e-02, -7.19226724e-02,  4.15931674e-02,\n",
       "        2.90454021e-01,  1.76031380e-01, -3.11693606e-01, -4.39709569e-01,\n",
       "        4.68110943e-01, -6.59430854e-02,  2.62621556e-01,  6.77262920e-01,\n",
       "       -6.70456858e-01,  2.65151339e-01, -1.69256423e-01,  2.76945971e-01,\n",
       "        1.53328169e-01, -5.10753909e-01, -6.16901579e-02,  3.31429137e-01,\n",
       "        2.51785433e-01,  2.40809950e-01,  1.99076810e-01, -2.76012959e-01,\n",
       "        1.79290089e-02,  4.41728878e-01,  2.96162845e-01,  2.06349779e-02])"
      ]
     },
     "execution_count": 8,
     "metadata": {},
     "output_type": "execute_result"
    }
   ],
   "source": [
    "train_data_x[1]"
   ]
  },
  {
   "cell_type": "code",
   "execution_count": 9,
   "metadata": {},
   "outputs": [
    {
     "data": {
      "text/plain": [
       "1"
      ]
     },
     "execution_count": 9,
     "metadata": {},
     "output_type": "execute_result"
    }
   ],
   "source": [
    "train_y[1]"
   ]
  },
  {
   "cell_type": "code",
   "execution_count": 10,
   "metadata": {},
   "outputs": [],
   "source": [
    "train_data_y = np.array(train_y)"
   ]
  },
  {
   "cell_type": "markdown",
   "metadata": {},
   "source": [
    "### SVM with 10 KFold"
   ]
  },
  {
   "cell_type": "code",
   "execution_count": 11,
   "metadata": {},
   "outputs": [],
   "source": [
    "import sklearn.svm as svm\n",
    "import random\n",
    "from sklearn.model_selection import StratifiedKFold "
   ]
  },
  {
   "cell_type": "code",
   "execution_count": 12,
   "metadata": {},
   "outputs": [],
   "source": [
    "clf = svm.SVC()\n",
    "skf = StratifiedKFold(n_splits=10)"
   ]
  },
  {
   "cell_type": "code",
   "execution_count": 13,
   "metadata": {},
   "outputs": [],
   "source": [
    "index = list(range(len(train_y)))\n",
    "random.seed(1)\n",
    "random.shuffle(index)\n",
    "train_index = index[:20000]\n",
    "test_index = index[20000:]"
   ]
  },
  {
   "cell_type": "code",
   "execution_count": 14,
   "metadata": {},
   "outputs": [],
   "source": [
    "x_train = train_data_x[train_index]\n",
    "y_train = train_data_y[train_index]\n",
    "x_test = train_data_x[test_index]\n",
    "y_test = train_data_y[test_index]"
   ]
  },
  {
   "cell_type": "markdown",
   "metadata": {},
   "source": [
    "### define accuracy"
   ]
  },
  {
   "cell_type": "code",
   "execution_count": 15,
   "metadata": {},
   "outputs": [],
   "source": [
    "def Accuracy(predict, label):\n",
    "    total = len(predict)\n",
    "    trueCount = 0\n",
    "    for i in range(total):\n",
    "        if predict[i] == label[i]:\n",
    "            trueCount += 1\n",
    "    return  float(trueCount) / float(total)"
   ]
  },
  {
   "cell_type": "code",
   "execution_count": 16,
   "metadata": {},
   "outputs": [],
   "source": [
    "accList = []\n",
    "for train, validation in skf.split(x_train, y_train):\n",
    "    clf.fit(x_train[train], y_train[train])\n",
    "    predict = clf.predict(x_train[validation])\n",
    "    accList.append(Accuracy(predict, y_train[validation].tolist()))"
   ]
  },
  {
   "cell_type": "code",
   "execution_count": 17,
   "metadata": {},
   "outputs": [
    {
     "name": "stdout",
     "output_type": "stream",
     "text": [
      "0.868599443524861\n"
     ]
    }
   ],
   "source": [
    "avgAcc = sum(accList) / len(accList)\n",
    "print (avgAcc)"
   ]
  },
  {
   "cell_type": "code",
   "execution_count": 18,
   "metadata": {
    "scrolled": true
   },
   "outputs": [
    {
     "data": {
      "text/plain": [
       "SVC(C=1.0, cache_size=200, class_weight=None, coef0=0.0,\n",
       "  decision_function_shape='ovr', degree=3, gamma='auto', kernel='rbf',\n",
       "  max_iter=-1, probability=False, random_state=None, shrinking=True,\n",
       "  tol=0.001, verbose=False)"
      ]
     },
     "execution_count": 18,
     "metadata": {},
     "output_type": "execute_result"
    }
   ],
   "source": [
    "clf.fit(x_train, y_train)"
   ]
  },
  {
   "cell_type": "markdown",
   "metadata": {},
   "source": [
    "### accuracy on validation data"
   ]
  },
  {
   "cell_type": "code",
   "execution_count": 19,
   "metadata": {},
   "outputs": [],
   "source": [
    "predictTest = clf.predict(x_test)"
   ]
  },
  {
   "cell_type": "code",
   "execution_count": 20,
   "metadata": {},
   "outputs": [
    {
     "data": {
      "text/plain": [
       "0.8728"
      ]
     },
     "execution_count": 20,
     "metadata": {},
     "output_type": "execute_result"
    }
   ],
   "source": [
    "Accuracy(predictTest, y_test.tolist())"
   ]
  },
  {
   "cell_type": "markdown",
   "metadata": {},
   "source": [
    "### modify test data"
   ]
  },
  {
   "cell_type": "code",
   "execution_count": 21,
   "metadata": {},
   "outputs": [
    {
     "data": {
      "text/plain": [
       "0    [[naturally, film, main, themes, mortality, no...\n",
       "1    [[movie, disaster, within, disaster, film], [f...\n",
       "2    [[movie, kids], [saw, tonight, child, loved], ...\n",
       "3    [[afraid, dark, left, impression, several, dif...\n",
       "4    [[accurate, depiction, small, time, mob, life,...\n",
       "Name: review, dtype: object"
      ]
     },
     "execution_count": 21,
     "metadata": {},
     "output_type": "execute_result"
    }
   ],
   "source": [
    "test = pd.read_pickle('E:\\\\school\\\\2-2\\\\AI\\\\Project2\\\\data\\\\Modified_TD_x.pkl')\n",
    "test.head()"
   ]
  },
  {
   "cell_type": "code",
   "execution_count": 22,
   "metadata": {},
   "outputs": [],
   "source": [
    "test_data_x = []\n",
    "index2word_set = set(model.wv.index2word)\n",
    "for review in test:\n",
    "    cnt = 0\n",
    "    vec = np.zeros((1, 100))\n",
    "    for sentence in review:\n",
    "        for word in sentence:\n",
    "            if word in index2word_set:\n",
    "                vec = vec + model.wv.__getitem__(word)\n",
    "                cnt = cnt+1\n",
    "    vec = vec/cnt\n",
    "    test_data_x.extend(vec)"
   ]
  },
  {
   "cell_type": "code",
   "execution_count": 23,
   "metadata": {},
   "outputs": [],
   "source": [
    "test_data_x = np.array(test_data_x)"
   ]
  },
  {
   "cell_type": "markdown",
   "metadata": {},
   "source": [
    "### predict test y"
   ]
  },
  {
   "cell_type": "code",
   "execution_count": 24,
   "metadata": {},
   "outputs": [],
   "source": [
    "test_data_y = clf.predict(test_data_x)"
   ]
  },
  {
   "cell_type": "code",
   "execution_count": 25,
   "metadata": {},
   "outputs": [
    {
     "data": {
      "text/plain": [
       "array([1, 0, 1, ..., 0, 1, 0], dtype=int64)"
      ]
     },
     "execution_count": 25,
     "metadata": {},
     "output_type": "execute_result"
    }
   ],
   "source": [
    "test_data_y"
   ]
  },
  {
   "cell_type": "markdown",
   "metadata": {},
   "source": [
    "### save result"
   ]
  },
  {
   "cell_type": "code",
   "execution_count": 26,
   "metadata": {},
   "outputs": [],
   "source": [
    "# test_id = pd.read_csv('E:\\\\school\\\\2-2\\\\AI\\\\Project2\\\\data\\\\testData.tsv', sep=\"\\t\", header=0)"
   ]
  },
  {
   "cell_type": "code",
   "execution_count": 27,
   "metadata": {},
   "outputs": [],
   "source": [
    "# test_y_path = 'E:\\\\school\\\\2-2\\\\AI\\\\Project2\\\\data\\\\w2vSVM.csv'"
   ]
  },
  {
   "cell_type": "code",
   "execution_count": 28,
   "metadata": {},
   "outputs": [],
   "source": [
    "# test_id['sentiment'] = test_data_y"
   ]
  },
  {
   "cell_type": "code",
   "execution_count": 29,
   "metadata": {},
   "outputs": [],
   "source": [
    "# test_id.to_csv(test_y_path, columns=['id', 'sentiment'], index=0)"
   ]
  }
 ],
 "metadata": {
  "kernelspec": {
   "display_name": "Python 3",
   "language": "python",
   "name": "python3"
  },
  "language_info": {
   "codemirror_mode": {
    "name": "ipython",
    "version": 3
   },
   "file_extension": ".py",
   "mimetype": "text/x-python",
   "name": "python",
   "nbconvert_exporter": "python",
   "pygments_lexer": "ipython3",
   "version": "3.6.4"
  }
 },
 "nbformat": 4,
 "nbformat_minor": 2
}
